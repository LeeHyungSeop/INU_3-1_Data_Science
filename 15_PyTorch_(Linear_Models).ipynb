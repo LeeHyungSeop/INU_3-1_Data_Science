{
  "cells": [
    {
      "attachments": {},
      "cell_type": "markdown",
      "metadata": {
        "id": "kj4JGvVDuuz1"
      },
      "source": [
        "# 데이터사이언스 (0010085001)\n",
        "\n",
        "## Exercise 15: PyTorch (Linear Models)\n",
        "\n",
        "* source from : https://github.com/L1aoXingyu/pytorch-beginner"
      ]
    },
    {
      "attachments": {},
      "cell_type": "markdown",
      "metadata": {
        "id": "irMJ2c-qmIYS"
      },
      "source": [
        "### 1. Linear Regression"
      ]
    },
    {
      "cell_type": "code",
      "execution_count": 38,
      "metadata": {
        "id": "aySLEhZZQ9Te"
      },
      "outputs": [],
      "source": [
        "import matplotlib.pyplot as plt\n",
        "import numpy as np\n",
        "import torch\n",
        "from torch import nn    # neural network\n",
        "from torch.autograd import Variable"
      ]
    },
    {
      "cell_type": "code",
      "execution_count": 39,
      "metadata": {
        "id": "tEnBNC8WSgTb"
      },
      "outputs": [],
      "source": [
        "# 데이터 생성 (x, y) 좌표들에 대한 data\n",
        "x_train = np.array([[3.3], [4.4], [5.5], [6.71], [6.93], [4.168],\n",
        "                    [9.779], [6.182], [7.59], [2.167], [7.042],\n",
        "                    [10.791], [5.313], [7.997], [3.1]], dtype=np.float32)\n",
        "\n",
        "y_train = np.array([[1.7], [2.76], [2.09], [3.19], [1.694], [1.573],\n",
        "                    [3.366], [2.596], [2.53], [1.221], [2.827],\n",
        "                    [3.465], [1.65], [2.904], [1.3]], dtype=np.float32)\n",
        "\n",
        "# numpy.array -> torch.tensor\n",
        "x_train = torch.from_numpy(x_train)\n",
        "y_train = torch.from_numpy(y_train)"
      ]
    },
    {
      "cell_type": "code",
      "execution_count": 40,
      "metadata": {
        "id": "Bk1Qyon5SgPb"
      },
      "outputs": [],
      "source": [
        "# Linear regression 모델 생성\n",
        "\n",
        "### torch.nn.Module\n",
        "# https://pytorch.org/docs/stable/generated/torch.nn.Module.html#module\n",
        "\n",
        "class linearRegression(nn.Module):\n",
        "    def __init__(self):\n",
        "        super(linearRegression, self).__init__()\n",
        "        \n",
        "        # 필요한 layer 정보 작성\n",
        "        self.linear = nn.Linear(1, 1)  # input and output is 1 dimension\n",
        "\n",
        "    # feed forward phase\n",
        "    def forward(self, x):\n",
        "        out = self.linear(x)\n",
        "        return out\n",
        "\n",
        "model = linearRegression()"
      ]
    },
    {
      "cell_type": "code",
      "execution_count": 41,
      "metadata": {
        "id": "jDW4m9aBjOkU"
      },
      "outputs": [],
      "source": [
        "# Loss (cost) function 설정\n",
        "\n",
        "### torch.nn.MSELoss\n",
        "# https://pytorch.org/docs/stable/nn.html#loss-functions\n",
        "\n",
        "criterion = nn.MSELoss()"
      ]
    },
    {
      "cell_type": "code",
      "execution_count": 42,
      "metadata": {
        "id": "9oTR-bafjOiM"
      },
      "outputs": [],
      "source": [
        "# Optimizer 설정\n",
        "\n",
        "### torch.optim.SGD (Stochastic gradient descent)\n",
        "# https://pytorch.org/docs/stable/optim.html\n",
        "\n",
        "# 우리가 찾고자 하는 minimum E_in가 존재할텐데,\n",
        "# 그 E_in를 만들어주는 parameter를 찾아주는 과정이 optimizer\n",
        "optimizer = torch.optim.SGD(model.parameters(), lr=1e-4)"
      ]
    },
    {
      "cell_type": "code",
      "execution_count": 43,
      "metadata": {
        "id": "tlhRZ3wgjOgC"
      },
      "outputs": [
        {
          "name": "stdout",
          "output_type": "stream",
          "text": [
            "Epoch[20/1000], loss: 0.522974\n",
            "Epoch[40/1000], loss: 0.513569\n",
            "Epoch[60/1000], loss: 0.506824\n",
            "Epoch[80/1000], loss: 0.501961\n",
            "Epoch[100/1000], loss: 0.498427\n",
            "Epoch[120/1000], loss: 0.495832\n",
            "Epoch[140/1000], loss: 0.493902\n",
            "Epoch[160/1000], loss: 0.492442\n",
            "Epoch[180/1000], loss: 0.491313\n",
            "Epoch[200/1000], loss: 0.490419\n",
            "Epoch[220/1000], loss: 0.489691\n",
            "Epoch[240/1000], loss: 0.489081\n",
            "Epoch[260/1000], loss: 0.488553\n",
            "Epoch[280/1000], loss: 0.488085\n",
            "Epoch[300/1000], loss: 0.487658\n",
            "Epoch[320/1000], loss: 0.487260\n",
            "Epoch[340/1000], loss: 0.486884\n",
            "Epoch[360/1000], loss: 0.486522\n",
            "Epoch[380/1000], loss: 0.486171\n",
            "Epoch[400/1000], loss: 0.485828\n",
            "Epoch[420/1000], loss: 0.485490\n",
            "Epoch[440/1000], loss: 0.485157\n",
            "Epoch[460/1000], loss: 0.484826\n",
            "Epoch[480/1000], loss: 0.484497\n",
            "Epoch[500/1000], loss: 0.484170\n",
            "Epoch[520/1000], loss: 0.483844\n",
            "Epoch[540/1000], loss: 0.483519\n",
            "Epoch[560/1000], loss: 0.483195\n",
            "Epoch[580/1000], loss: 0.482872\n",
            "Epoch[600/1000], loss: 0.482549\n",
            "Epoch[620/1000], loss: 0.482226\n",
            "Epoch[640/1000], loss: 0.481904\n",
            "Epoch[660/1000], loss: 0.481583\n",
            "Epoch[680/1000], loss: 0.481262\n",
            "Epoch[700/1000], loss: 0.480941\n",
            "Epoch[720/1000], loss: 0.480621\n",
            "Epoch[740/1000], loss: 0.480301\n",
            "Epoch[760/1000], loss: 0.479981\n",
            "Epoch[780/1000], loss: 0.479662\n",
            "Epoch[800/1000], loss: 0.479343\n",
            "Epoch[820/1000], loss: 0.479024\n",
            "Epoch[840/1000], loss: 0.478706\n",
            "Epoch[860/1000], loss: 0.478387\n",
            "Epoch[880/1000], loss: 0.478069\n",
            "Epoch[900/1000], loss: 0.477752\n",
            "Epoch[920/1000], loss: 0.477435\n",
            "Epoch[940/1000], loss: 0.477118\n",
            "Epoch[960/1000], loss: 0.476802\n",
            "Epoch[980/1000], loss: 0.476486\n",
            "Epoch[1000/1000], loss: 0.476170\n"
          ]
        }
      ],
      "source": [
        "# 모델 학습\n",
        "model.train # model을 train mode로 변경 \n",
        "\n",
        "\n",
        "# 1 epoch : 우리가 가진 모든 data N개를 1번 학습하는 과정\n",
        "num_epochs = 1000\n",
        "\n",
        "# training (optimal weight를 찾는 과정)\n",
        "for epoch in range(num_epochs):\n",
        "    inputs = x_train\n",
        "    target = y_train\n",
        "\n",
        "    # forward\n",
        "    out = model(inputs)\n",
        "    \n",
        "    # calculate loss\n",
        "    loss = criterion(out, target)   # \\hat{y}\n",
        "\n",
        "    # backward\n",
        "    optimizer.zero_grad() # optimizer에 gradient를 초기화\n",
        "    \n",
        "    loss.backward()   # back propagation\n",
        "    optimizer.step()  # parameter updtae\n",
        "\n",
        "    if (epoch+1) % 20 == 0:\n",
        "        print(f'Epoch[{epoch+1}/{num_epochs}], loss: {loss.item():.6f}')\n"
      ]
    },
    {
      "cell_type": "code",
      "execution_count": 44,
      "metadata": {},
      "outputs": [],
      "source": [
        "# test\n",
        "\n",
        "### torch.nn.Module.eval()\n",
        "# https://pytorch.org/docs/stable/generated/torch.nn.Module.html#torch.nn.Module.eval\n",
        "model.eval()  # model을 test mode로 변경 \n",
        "\n",
        "### torch.no_grad()\n",
        "# https://pytorch.org/docs/stable/generated/torch.no_grad.html#torch.no_grad\n",
        "with torch.no_grad():   # data들을 memory에 올렸다가, 해당 연산이 끝나면 memory를 해제하여 불필요한 memory를 잡아먹지 않도록 도와준다.\n",
        "    predict = model(x_train)\n",
        "\n",
        "predict = predict.data.numpy()"
      ]
    },
    {
      "cell_type": "code",
      "execution_count": 45,
      "metadata": {
        "id": "w9yTrkN4jOeG"
      },
      "outputs": [
        {
          "data": {
            "image/png": "[encoded data removed]",
            "text/plain": [
              "<Figure size 1000x500 with 1 Axes>"
            ]
          },
          "metadata": {},
          "output_type": "display_data"
        }
      ],
      "source": [
        "# 학습 결과 시각화\n",
        "\n",
        "fig = plt.figure(figsize=(10, 5))\n",
        "plt.plot(x_train.numpy(), y_train.numpy(), 'ro', label='Original data')\n",
        "plt.plot(x_train.numpy(), predict, label='Fitting Line')\n",
        "\n",
        "plt.legend() \n",
        "plt.show()"
      ]
    },
    {
      "cell_type": "code",
      "execution_count": 27,
      "metadata": {
        "id": "m2UYTiyFjOb4"
      },
      "outputs": [],
      "source": [
        "# 모델 저장 (즉, 학습으로 얻은 weights 를 저장)\n",
        "\n",
        "torch.save(model.state_dict(), './linear.pth')"
      ]
    },
    {
      "attachments": {},
      "cell_type": "markdown",
      "metadata": {
        "id": "AEwgWwNSmMZX"
      },
      "source": [
        "### 2. Logistic Regression"
      ]
    },
    {
      "cell_type": "code",
      "execution_count": 28,
      "metadata": {
        "id": "mZW2X1a-jOZ0"
      },
      "outputs": [],
      "source": [
        "import time\n",
        "\n",
        "import torch\n",
        "import torch.nn.functional as F\n",
        "from torch import nn\n",
        "from torch.utils.data import DataLoader\n",
        "from torchvision import datasets, transforms\n"
      ]
    },
    {
      "cell_type": "code",
      "execution_count": 29,
      "metadata": {
        "id": "u4NXQTrVnpn5"
      },
      "outputs": [],
      "source": [
        "# 학습 파라미터 설정\n",
        "\n",
        "batch_size = 64       # model에 넣어주는 data를 한 번에 몇개만큼 넣을건지?\n",
        "learning_rate = 1e-3   \n",
        "num_epochs = 10    "
      ]
    },
    {
      "cell_type": "code",
      "execution_count": 30,
      "metadata": {
        "id": "wyH64ehxnplu"
      },
      "outputs": [],
      "source": [
        "# 데이터셋 설정\n",
        "\n",
        "### torchvision.datasets.FashionMNIST\n",
        "# https://pytorch.org/vision/stable/generated/torchvision.datasets.FashionMNIST.html#torchvision.datasets.FashionMNIST\n",
        "\n",
        "train_dataset = datasets.FashionMNIST(root='./data', \n",
        "                                      train=True, download=True,\n",
        "                                      transform=transforms.ToTensor())\n",
        "\n",
        "test_dataset = datasets.FashionMNIST(root='./data', train=False, \n",
        "                                     transform=transforms.ToTensor())"
      ]
    },
    {
      "cell_type": "code",
      "execution_count": 31,
      "metadata": {
        "id": "z4CxmNZknpjq"
      },
      "outputs": [],
      "source": [
        "# 데이터 로더 설정\n",
        "\n",
        "train_loader = DataLoader(train_dataset, batch_size=batch_size, shuffle=True)\n",
        "test_loader = DataLoader(test_dataset, batch_size=batch_size, shuffle=False) "
      ]
    },
    {
      "cell_type": "code",
      "execution_count": 32,
      "metadata": {
        "id": "2jqnhqfdnphg"
      },
      "outputs": [],
      "source": [
        "# Logistic regression 모델 생성 \n",
        "# (Linear Regression과는 달리 \"분류\" Task를 해야 하기 때문에)\n",
        "\n",
        "class Logistic_Regression(nn.Module):\n",
        "    def __init__(self, in_dim, n_class):\n",
        "        super(Logistic_Regression, self).__init__()\n",
        "        self.logistic = nn.Linear(in_dim, n_class)   #  MNIST dataset이어다면, n_class는 10이 될 것임\n",
        "    \n",
        "    def forward(self, x):   # forward function이 있어야, 나중에 function signal을 계산할 수 있음\n",
        "        out = self.logistic(x)\n",
        "        return out\n",
        "\n",
        "model = Logistic_Regression(28 * 28, 10)\n",
        "\n",
        "use_gpu = torch.cuda.is_available()\n",
        "if use_gpu:\n",
        "    model = model.cuda()"
      ]
    },
    {
      "cell_type": "code",
      "execution_count": 33,
      "metadata": {
        "id": "ak-n8E6enpfU"
      },
      "outputs": [],
      "source": [
        "# Loss (cost) function 설정\n",
        "\n",
        "criterion = nn.CrossEntropyLoss()  \n",
        "    # 우리의 예측 분포(Q)와 실제 분포(P)가 얼만큼 떨어져 있는지 나타내는 measure.\n",
        "    # Q를 P에 가깝게 만들어주는 것이 목표."
      ]
    },
    {
      "cell_type": "code",
      "execution_count": 34,
      "metadata": {
        "id": "PC_teO8Znpde"
      },
      "outputs": [],
      "source": [
        "# Optimizer 설정\n",
        "\n",
        "optimizer = torch.optim.SGD(model.parameters(), lr=learning_rate)"
      ]
    },
    {
      "cell_type": "code",
      "execution_count": 35,
      "metadata": {
        "id": "NmhNSMbMnpbS"
      },
      "outputs": [
        {
          "name": "stdout",
          "output_type": "stream",
          "text": [
            "**********\n",
            "epoch 1\n",
            "[1/10] Loss: 2.043427, Acc: 0.404844\n",
            "[1/10] Loss: 1.857507, Acc: 0.507526\n",
            "[1/10] Loss: 1.722980, Acc: 0.553385\n",
            "Finish 1 epoch, Loss: 1.708475, Acc: 0.557403\n",
            "Test Loss: 1.363277, Acc: 0.653563\n",
            "Time:4.5 s\n",
            "**********\n",
            "epoch 2\n",
            "[2/10] Loss: 1.296576, Acc: 0.667604\n",
            "[2/10] Loss: 1.247593, Acc: 0.672344\n",
            "[2/10] Loss: 1.209552, Acc: 0.673646\n",
            "Finish 2 epoch, Loss: 1.204969, Acc: 0.673907\n",
            "Test Loss: 1.105207, Acc: 0.673467\n",
            "Time:4.3 s\n",
            "**********\n",
            "epoch 3\n",
            "[3/10] Loss: 1.072686, Acc: 0.684792\n",
            "[3/10] Loss: 1.050115, Acc: 0.688724\n",
            "[3/10] Loss: 1.029785, Acc: 0.692917\n",
            "Finish 3 epoch, Loss: 1.027457, Acc: 0.693180\n",
            "Test Loss: 0.985308, Acc: 0.692974\n",
            "Time:4.3 s\n",
            "**********\n",
            "epoch 4\n",
            "[4/10] Loss: 0.957393, Acc: 0.707083\n",
            "[4/10] Loss: 0.945654, Acc: 0.709740\n",
            "[4/10] Loss: 0.935267, Acc: 0.711528\n",
            "Finish 4 epoch, Loss: 0.933756, Acc: 0.711954\n",
            "Test Loss: 0.913730, Acc: 0.707902\n",
            "Time:4.3 s\n",
            "**********\n",
            "epoch 5\n",
            "[5/10] Loss: 0.888230, Acc: 0.724063\n",
            "[5/10] Loss: 0.885273, Acc: 0.725130\n",
            "[5/10] Loss: 0.875248, Acc: 0.728073\n",
            "Finish 5 epoch, Loss: 0.873812, Acc: 0.728628\n",
            "Test Loss: 0.864450, Acc: 0.724124\n",
            "Time:4.3 s\n",
            "**********\n",
            "epoch 6\n",
            "[6/10] Loss: 0.838920, Acc: 0.741250\n",
            "[6/10] Loss: 0.838511, Acc: 0.739583\n",
            "[6/10] Loss: 0.832797, Acc: 0.740746\n",
            "Finish 6 epoch, Loss: 0.830809, Acc: 0.741505\n",
            "Test Loss: 0.828380, Acc: 0.734475\n",
            "Time:4.5 s\n",
            "**********\n",
            "epoch 7\n",
            "[7/10] Loss: 0.812342, Acc: 0.744896\n",
            "[7/10] Loss: 0.804464, Acc: 0.748333\n",
            "[7/10] Loss: 0.798158, Acc: 0.750885\n",
            "Finish 7 epoch, Loss: 0.797999, Acc: 0.751066\n",
            "Test Loss: 0.799573, Acc: 0.742138\n",
            "Time:4.6 s\n",
            "**********\n",
            "epoch 8\n",
            "[8/10] Loss: 0.779921, Acc: 0.757917\n",
            "[8/10] Loss: 0.775377, Acc: 0.758646\n",
            "[8/10] Loss: 0.772026, Acc: 0.759080\n",
            "Finish 8 epoch, Loss: 0.771824, Acc: 0.758346\n",
            "Test Loss: 0.776289, Acc: 0.750100\n",
            "Time:4.5 s\n",
            "**********\n",
            "epoch 9\n",
            "[9/10] Loss: 0.758720, Acc: 0.760833\n",
            "[9/10] Loss: 0.751749, Acc: 0.764479\n",
            "[9/10] Loss: 0.750632, Acc: 0.764653\n",
            "Finish 9 epoch, Loss: 0.750081, Acc: 0.764859\n",
            "Test Loss: 0.756837, Acc: 0.753881\n",
            "Time:4.7 s\n",
            "**********\n",
            "epoch 10\n",
            "[10/10] Loss: 0.740371, Acc: 0.766198\n",
            "[10/10] Loss: 0.733473, Acc: 0.770156\n",
            "[10/10] Loss: 0.731996, Acc: 0.770156\n",
            "Finish 10 epoch, Loss: 0.731960, Acc: 0.770223\n",
            "Test Loss: 0.739975, Acc: 0.758061\n",
            "Time:4.6 s\n"
          ]
        }
      ],
      "source": [
        "# 모델 학습\n",
        "\n",
        "for epoch in range(num_epochs):\n",
        "    print('*' * 10)\n",
        "    print(f'epoch {epoch+1}')\n",
        "    \n",
        "    since = time.time()\n",
        "    running_loss = 0.0\n",
        "    running_acc = 0.0\n",
        "    \n",
        "    model.train()  # model을 train mode로 변경.\n",
        "    for i, data in enumerate(train_loader, 1):\n",
        "        img, label = data\n",
        "        img = img.view(img.size(0), -1)  # 가지고 있는 data의 차원을 바꾸기 위함 ( [28 * 28] --> [(28*28) * 1])\n",
        "    \n",
        "        if use_gpu:\n",
        "            img = img.cuda()\n",
        "            label = label.cuda()\n",
        "    \n",
        "        # forward\n",
        "        out = model(img)  # 우리가 가지고 있는 input을 model에 넣어 특정 event가 일어날 확률에 대한 예측\n",
        "    \n",
        "        # calculate error\n",
        "        loss = criterion(out, label)  # 예측 분포와 실제 분포를 CrossEntropy를 통해 Error(Loss) 계산.\n",
        "    \n",
        "        running_loss += loss.item()\n",
        "\n",
        "\n",
        "        _, pred = torch.max(out, 1)\n",
        "        running_acc += (pred==label).float().mean()\n",
        "    \n",
        "        # backprop\n",
        "        optimizer.zero_grad() # optimizer에 gradient를 초기화\n",
        "        loss.backward()       # back propagation\n",
        "        optimizer.step()      # parameter updtae\n",
        "\n",
        "        if i % 300 == 0:\n",
        "            print(f'[{epoch+1}/{num_epochs}] Loss: {running_loss/i:.6f}, Acc: {running_acc/i:.6f}')\n",
        "    \n",
        "    print(f'Finish {epoch+1} epoch, Loss: {running_loss/i:.6f}, Acc: {running_acc/i:.6f}')\n",
        "\n",
        "    # 모델 평가 (test)    \n",
        "    model.eval()\n",
        "\n",
        "    eval_loss = 0.\n",
        "    eval_acc = 0.\n",
        "\n",
        "    for data in test_loader:\n",
        "        img, label = data   # data는 tuple type이라 img, label로 나눌 수 있음\n",
        "        img = img.view(img.size(0), -1)\n",
        "\n",
        "        if use_gpu:\n",
        "            img = img.cuda()\n",
        "            label = label.cuda()\n",
        "        \n",
        "        with torch.no_grad():\n",
        "            out = model(img)        # 예측한 Q에 대한 분포\n",
        "            loss = criterion(out, label) # (실제 P 분포, 예측 Q 분포) 사이의 error 계산\n",
        "        \n",
        "        eval_loss += loss.item()\n",
        "        _, pred = torch.max(out, 1)\n",
        "        eval_acc += (pred == label).float().mean()  # 예측과 label이 맞는 경우, count\n",
        "\n",
        "    print(f'Test Loss: {eval_loss/len(test_loader):.6f}, Acc: {eval_acc/len(test_loader):.6f}')\n",
        "    print(f'Time:{(time.time()-since):.1f} s')"
      ]
    },
    {
      "cell_type": "code",
      "execution_count": 36,
      "metadata": {
        "id": "27HrxjibnpZK"
      },
      "outputs": [],
      "source": [
        "# 모델 저장 (즉, 학습으로 얻은 weights 를 저장)\n",
        "\n",
        "torch.save(model.state_dict(), './logstic.pth')"
      ]
    },
    {
      "cell_type": "code",
      "execution_count": null,
      "metadata": {},
      "outputs": [],
      "source": []
    }
  ],
  "metadata": {
    "colab": {
      "provenance": []
    },
    "kernelspec": {
      "display_name": "Python 3",
      "language": "python",
      "name": "python3"
    },
    "language_info": {
      "codemirror_mode": {
        "name": "ipython",
        "version": 3
      },
      "file_extension": ".py",
      "mimetype": "text/x-python",
      "name": "python",
      "nbconvert_exporter": "python",
      "pygments_lexer": "ipython3",
      "version": "3.9.13"
    }
  },
  "nbformat": 4,
  "nbformat_minor": 0
}
