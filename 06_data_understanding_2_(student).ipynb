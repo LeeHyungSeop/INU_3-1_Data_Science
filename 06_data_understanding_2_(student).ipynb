{
  "cells": [
    {
      "cell_type": "markdown",
      "metadata": {
        "id": "Ad3KH2GnL1UA"
      },
      "source": [
        "# 데이터사이언스 (0010085001)\n",
        "\n",
        "## Exercise 6: Data Understanding (2)\n",
        "\n",
        "In this excercise, we will cover the exercise on the data understanding.\n",
        "\n",
        "Especially, we will study the mean, median, mode, which are the distribution for the central value. Next, we will learn the sample variance, sample standard deviation, skewness, and kurtosis, which determine the degree of spread."
      ]
    },
    {
      "cell_type": "code",
      "execution_count": 2,
      "metadata": {
        "id": "ZyaEDLhNWhBs"
      },
      "outputs": [],
      "source": [
        "import numpy as np\n",
        "import pandas as pd"
      ]
    },
    {
      "cell_type": "markdown",
      "metadata": {
        "id": "6RwqgjuWX2O4"
      },
      "source": [
        "### 1. 중심위치확인\n",
        "\n",
        "#### 예제: 중심위치"
      ]
    },
    {
      "cell_type": "code",
      "execution_count": 3,
      "metadata": {
        "id": "14mm6rIdwezC"
      },
      "outputs": [],
      "source": [
        "import pandas as pd"
      ]
    },
    {
      "cell_type": "code",
      "execution_count": 4,
      "metadata": {
        "id": "FM2qp5tKwnBp"
      },
      "outputs": [],
      "source": [
        "# Step 1: 데이터프레임의 구조\n",
        "\n",
        "# apartments.csv 다운로드\n",
        "# gdrive link: https://drive.google.com/file/d/1biRQigoeInynB6JtS81BOLobgInAcXb-/view?usp=share_link"
      ]
    },
    {
      "cell_type": "code",
      "execution_count": 5,
      "metadata": {
        "id": "o4aVCIJEwevR"
      },
      "outputs": [
        {
          "data": {
            "text/html": [
              "<div>\n",
              "<style scoped>\n",
              "    .dataframe tbody tr th:only-of-type {\n",
              "        vertical-align: middle;\n",
              "    }\n",
              "\n",
              "    .dataframe tbody tr th {\n",
              "        vertical-align: top;\n",
              "    }\n",
              "\n",
              "    .dataframe thead th {\n",
              "        text-align: right;\n",
              "    }\n",
              "</style>\n",
              "<table border=\"1\" class=\"dataframe\">\n",
              "  <thead>\n",
              "    <tr style=\"text-align: right;\">\n",
              "      <th></th>\n",
              "      <th>Unnamed: 0</th>\n",
              "      <th>시군구</th>\n",
              "      <th>번지</th>\n",
              "      <th>본번</th>\n",
              "      <th>부번</th>\n",
              "      <th>단지명</th>\n",
              "      <th>전용면적(㎡)</th>\n",
              "      <th>계약년월</th>\n",
              "      <th>계약일</th>\n",
              "      <th>거래금액(만원)</th>\n",
              "      <th>층</th>\n",
              "      <th>건축년도</th>\n",
              "      <th>도로명</th>\n",
              "    </tr>\n",
              "  </thead>\n",
              "  <tbody>\n",
              "    <tr>\n",
              "      <th>0</th>\n",
              "      <td>0</td>\n",
              "      <td>서울특별시 강남구 개포동</td>\n",
              "      <td>141</td>\n",
              "      <td>141</td>\n",
              "      <td>0</td>\n",
              "      <td>개포주공 1단지</td>\n",
              "      <td>50.64</td>\n",
              "      <td>201902</td>\n",
              "      <td>1~10</td>\n",
              "      <td>162000</td>\n",
              "      <td>2</td>\n",
              "      <td>1982</td>\n",
              "      <td>개포로</td>\n",
              "    </tr>\n",
              "    <tr>\n",
              "      <th>1</th>\n",
              "      <td>1</td>\n",
              "      <td>서울특별시 강남구 개포동</td>\n",
              "      <td>187</td>\n",
              "      <td>187</td>\n",
              "      <td>0</td>\n",
              "      <td>개포주공 5단지</td>\n",
              "      <td>74.25</td>\n",
              "      <td>201902</td>\n",
              "      <td>11~20</td>\n",
              "      <td>153500</td>\n",
              "      <td>1</td>\n",
              "      <td>1983</td>\n",
              "      <td>삼성로4길</td>\n",
              "    </tr>\n",
              "    <tr>\n",
              "      <th>2</th>\n",
              "      <td>2</td>\n",
              "      <td>서울특별시 강남구 개포동</td>\n",
              "      <td>185</td>\n",
              "      <td>185</td>\n",
              "      <td>0</td>\n",
              "      <td>개포주공 6단지</td>\n",
              "      <td>60.13</td>\n",
              "      <td>201902</td>\n",
              "      <td>11~20</td>\n",
              "      <td>130000</td>\n",
              "      <td>5</td>\n",
              "      <td>1983</td>\n",
              "      <td>개포로</td>\n",
              "    </tr>\n",
              "    <tr>\n",
              "      <th>3</th>\n",
              "      <td>3</td>\n",
              "      <td>서울특별시 강남구 개포동</td>\n",
              "      <td>185</td>\n",
              "      <td>185</td>\n",
              "      <td>0</td>\n",
              "      <td>개포주공 7단지</td>\n",
              "      <td>60.76</td>\n",
              "      <td>201902</td>\n",
              "      <td>11~20</td>\n",
              "      <td>130500</td>\n",
              "      <td>9</td>\n",
              "      <td>1983</td>\n",
              "      <td>개포로</td>\n",
              "    </tr>\n",
              "    <tr>\n",
              "      <th>4</th>\n",
              "      <td>4</td>\n",
              "      <td>서울특별시 강남구 개포동</td>\n",
              "      <td>185</td>\n",
              "      <td>185</td>\n",
              "      <td>0</td>\n",
              "      <td>개포주공 7단지</td>\n",
              "      <td>53.46</td>\n",
              "      <td>201902</td>\n",
              "      <td>21~28</td>\n",
              "      <td>114000</td>\n",
              "      <td>14</td>\n",
              "      <td>1983</td>\n",
              "      <td>개포로</td>\n",
              "    </tr>\n",
              "  </tbody>\n",
              "</table>\n",
              "</div>"
            ],
            "text/plain": [
              "   Unnamed: 0            시군구   번지   본번  부번       단지명  전용면적(㎡)    계약년월    계약일  \\\n",
              "0           0  서울특별시 강남구 개포동  141  141   0  개포주공 1단지    50.64  201902   1~10   \n",
              "1           1  서울특별시 강남구 개포동  187  187   0  개포주공 5단지    74.25  201902  11~20   \n",
              "2           2  서울특별시 강남구 개포동  185  185   0  개포주공 6단지    60.13  201902  11~20   \n",
              "3           3  서울특별시 강남구 개포동  185  185   0  개포주공 7단지    60.76  201902  11~20   \n",
              "4           4  서울특별시 강남구 개포동  185  185   0  개포주공 7단지    53.46  201902  21~28   \n",
              "\n",
              "   거래금액(만원)   층  건축년도    도로명  \n",
              "0    162000   2  1982    개포로  \n",
              "1    153500   1  1983  삼성로4길  \n",
              "2    130000   5  1983    개포로  \n",
              "3    130500   9  1983    개포로  \n",
              "4    114000  14  1983    개포로  "
            ]
          },
          "execution_count": 5,
          "metadata": {},
          "output_type": "execute_result"
        }
      ],
      "source": [
        "# csv 파일 읽기\n",
        "df = pd.read_csv(\"apartments.csv\")\n",
        "df.head()"
      ]
    },
    {
      "cell_type": "code",
      "execution_count": 6,
      "metadata": {
        "id": "V93Mp3WDyH-p"
      },
      "outputs": [
        {
          "data": {
            "text/html": [
              "<div>\n",
              "<style scoped>\n",
              "    .dataframe tbody tr th:only-of-type {\n",
              "        vertical-align: middle;\n",
              "    }\n",
              "\n",
              "    .dataframe tbody tr th {\n",
              "        vertical-align: top;\n",
              "    }\n",
              "\n",
              "    .dataframe thead th {\n",
              "        text-align: right;\n",
              "    }\n",
              "</style>\n",
              "<table border=\"1\" class=\"dataframe\">\n",
              "  <thead>\n",
              "    <tr style=\"text-align: right;\">\n",
              "      <th></th>\n",
              "      <th>시군구</th>\n",
              "      <th>번지</th>\n",
              "      <th>본번</th>\n",
              "      <th>부번</th>\n",
              "      <th>단지명</th>\n",
              "      <th>전용면적(㎡)</th>\n",
              "      <th>계약년월</th>\n",
              "      <th>계약일</th>\n",
              "      <th>거래금액(만원)</th>\n",
              "      <th>층</th>\n",
              "      <th>건축년도</th>\n",
              "      <th>도로명</th>\n",
              "    </tr>\n",
              "  </thead>\n",
              "  <tbody>\n",
              "    <tr>\n",
              "      <th>0</th>\n",
              "      <td>서울특별시 강남구 개포동</td>\n",
              "      <td>141</td>\n",
              "      <td>141</td>\n",
              "      <td>0</td>\n",
              "      <td>개포주공 1단지</td>\n",
              "      <td>50.64</td>\n",
              "      <td>201902</td>\n",
              "      <td>1~10</td>\n",
              "      <td>162000</td>\n",
              "      <td>2</td>\n",
              "      <td>1982</td>\n",
              "      <td>개포로</td>\n",
              "    </tr>\n",
              "    <tr>\n",
              "      <th>1</th>\n",
              "      <td>서울특별시 강남구 개포동</td>\n",
              "      <td>187</td>\n",
              "      <td>187</td>\n",
              "      <td>0</td>\n",
              "      <td>개포주공 5단지</td>\n",
              "      <td>74.25</td>\n",
              "      <td>201902</td>\n",
              "      <td>11~20</td>\n",
              "      <td>153500</td>\n",
              "      <td>1</td>\n",
              "      <td>1983</td>\n",
              "      <td>삼성로4길</td>\n",
              "    </tr>\n",
              "    <tr>\n",
              "      <th>2</th>\n",
              "      <td>서울특별시 강남구 개포동</td>\n",
              "      <td>185</td>\n",
              "      <td>185</td>\n",
              "      <td>0</td>\n",
              "      <td>개포주공 6단지</td>\n",
              "      <td>60.13</td>\n",
              "      <td>201902</td>\n",
              "      <td>11~20</td>\n",
              "      <td>130000</td>\n",
              "      <td>5</td>\n",
              "      <td>1983</td>\n",
              "      <td>개포로</td>\n",
              "    </tr>\n",
              "    <tr>\n",
              "      <th>3</th>\n",
              "      <td>서울특별시 강남구 개포동</td>\n",
              "      <td>185</td>\n",
              "      <td>185</td>\n",
              "      <td>0</td>\n",
              "      <td>개포주공 7단지</td>\n",
              "      <td>60.76</td>\n",
              "      <td>201902</td>\n",
              "      <td>11~20</td>\n",
              "      <td>130500</td>\n",
              "      <td>9</td>\n",
              "      <td>1983</td>\n",
              "      <td>개포로</td>\n",
              "    </tr>\n",
              "    <tr>\n",
              "      <th>4</th>\n",
              "      <td>서울특별시 강남구 개포동</td>\n",
              "      <td>185</td>\n",
              "      <td>185</td>\n",
              "      <td>0</td>\n",
              "      <td>개포주공 7단지</td>\n",
              "      <td>53.46</td>\n",
              "      <td>201902</td>\n",
              "      <td>21~28</td>\n",
              "      <td>114000</td>\n",
              "      <td>14</td>\n",
              "      <td>1983</td>\n",
              "      <td>개포로</td>\n",
              "    </tr>\n",
              "    <tr>\n",
              "      <th>...</th>\n",
              "      <td>...</td>\n",
              "      <td>...</td>\n",
              "      <td>...</td>\n",
              "      <td>...</td>\n",
              "      <td>...</td>\n",
              "      <td>...</td>\n",
              "      <td>...</td>\n",
              "      <td>...</td>\n",
              "      <td>...</td>\n",
              "      <td>...</td>\n",
              "      <td>...</td>\n",
              "      <td>...</td>\n",
              "    </tr>\n",
              "    <tr>\n",
              "      <th>1159</th>\n",
              "      <td>서울특별시 중랑구 중화동</td>\n",
              "      <td>438</td>\n",
              "      <td>438</td>\n",
              "      <td>0</td>\n",
              "      <td>삼익</td>\n",
              "      <td>59.34</td>\n",
              "      <td>201901</td>\n",
              "      <td>21~31</td>\n",
              "      <td>29500</td>\n",
              "      <td>11</td>\n",
              "      <td>1995</td>\n",
              "      <td>중랑역로</td>\n",
              "    </tr>\n",
              "    <tr>\n",
              "      <th>1160</th>\n",
              "      <td>서울특별시 중랑구 중화동</td>\n",
              "      <td>450</td>\n",
              "      <td>450</td>\n",
              "      <td>0</td>\n",
              "      <td>한신1차</td>\n",
              "      <td>50.37</td>\n",
              "      <td>201902</td>\n",
              "      <td>11~20</td>\n",
              "      <td>36900</td>\n",
              "      <td>4</td>\n",
              "      <td>1997</td>\n",
              "      <td>동일로</td>\n",
              "    </tr>\n",
              "    <tr>\n",
              "      <th>1161</th>\n",
              "      <td>서울특별시 중랑구 중화동</td>\n",
              "      <td>450</td>\n",
              "      <td>450</td>\n",
              "      <td>0</td>\n",
              "      <td>한신1차</td>\n",
              "      <td>50.37</td>\n",
              "      <td>201902</td>\n",
              "      <td>21~28</td>\n",
              "      <td>36500</td>\n",
              "      <td>24</td>\n",
              "      <td>1997</td>\n",
              "      <td>동일로</td>\n",
              "    </tr>\n",
              "    <tr>\n",
              "      <th>1162</th>\n",
              "      <td>서울특별시 중랑구 중화동</td>\n",
              "      <td>450</td>\n",
              "      <td>450</td>\n",
              "      <td>0</td>\n",
              "      <td>한신2</td>\n",
              "      <td>84.03</td>\n",
              "      <td>201902</td>\n",
              "      <td>1~10</td>\n",
              "      <td>54400</td>\n",
              "      <td>6</td>\n",
              "      <td>1998</td>\n",
              "      <td>동일로</td>\n",
              "    </tr>\n",
              "    <tr>\n",
              "      <th>1163</th>\n",
              "      <td>서울특별시 중랑구 중화동</td>\n",
              "      <td>11</td>\n",
              "      <td>11</td>\n",
              "      <td>0</td>\n",
              "      <td>현대휴앤미</td>\n",
              "      <td>82.17</td>\n",
              "      <td>201901</td>\n",
              "      <td>21~31</td>\n",
              "      <td>34500</td>\n",
              "      <td>7</td>\n",
              "      <td>2007</td>\n",
              "      <td>봉화산로27가길</td>\n",
              "    </tr>\n",
              "  </tbody>\n",
              "</table>\n",
              "<p>1164 rows × 12 columns</p>\n",
              "</div>"
            ],
            "text/plain": [
              "                시군구   번지   본번  부번       단지명  전용면적(㎡)    계약년월    계약일  거래금액(만원)  \\\n",
              "0     서울특별시 강남구 개포동  141  141   0  개포주공 1단지    50.64  201902   1~10    162000   \n",
              "1     서울특별시 강남구 개포동  187  187   0  개포주공 5단지    74.25  201902  11~20    153500   \n",
              "2     서울특별시 강남구 개포동  185  185   0  개포주공 6단지    60.13  201902  11~20    130000   \n",
              "3     서울특별시 강남구 개포동  185  185   0  개포주공 7단지    60.76  201902  11~20    130500   \n",
              "4     서울특별시 강남구 개포동  185  185   0  개포주공 7단지    53.46  201902  21~28    114000   \n",
              "...             ...  ...  ...  ..       ...      ...     ...    ...       ...   \n",
              "1159  서울특별시 중랑구 중화동  438  438   0        삼익    59.34  201901  21~31     29500   \n",
              "1160  서울특별시 중랑구 중화동  450  450   0      한신1차    50.37  201902  11~20     36900   \n",
              "1161  서울특별시 중랑구 중화동  450  450   0      한신1차    50.37  201902  21~28     36500   \n",
              "1162  서울특별시 중랑구 중화동  450  450   0       한신2    84.03  201902   1~10     54400   \n",
              "1163  서울특별시 중랑구 중화동   11   11   0     현대휴앤미    82.17  201901  21~31     34500   \n",
              "\n",
              "       층  건축년도       도로명  \n",
              "0      2  1982       개포로  \n",
              "1      1  1983     삼성로4길  \n",
              "2      5  1983       개포로  \n",
              "3      9  1983       개포로  \n",
              "4     14  1983       개포로  \n",
              "...   ..   ...       ...  \n",
              "1159  11  1995      중랑역로  \n",
              "1160   4  1997       동일로  \n",
              "1161  24  1997       동일로  \n",
              "1162   6  1998       동일로  \n",
              "1163   7  2007  봉화산로27가길  \n",
              "\n",
              "[1164 rows x 12 columns]"
            ]
          },
          "execution_count": 6,
          "metadata": {},
          "output_type": "execute_result"
        }
      ],
      "source": [
        "# 필요없는 열 삭제\n",
        "df = df.drop(\"Unnamed: 0\", axis=1)\n",
        "df"
      ]
    },
    {
      "cell_type": "code",
      "execution_count": 7,
      "metadata": {
        "id": "-rzxeMVUyDi5"
      },
      "outputs": [
        {
          "data": {
            "text/html": [
              "<div>\n",
              "<style scoped>\n",
              "    .dataframe tbody tr th:only-of-type {\n",
              "        vertical-align: middle;\n",
              "    }\n",
              "\n",
              "    .dataframe tbody tr th {\n",
              "        vertical-align: top;\n",
              "    }\n",
              "\n",
              "    .dataframe thead th {\n",
              "        text-align: right;\n",
              "    }\n",
              "</style>\n",
              "<table border=\"1\" class=\"dataframe\">\n",
              "  <thead>\n",
              "    <tr style=\"text-align: right;\">\n",
              "      <th></th>\n",
              "      <th>시군구</th>\n",
              "      <th>번지</th>\n",
              "      <th>본번</th>\n",
              "      <th>부번</th>\n",
              "      <th>단지명</th>\n",
              "      <th>전용면적(㎡)</th>\n",
              "      <th>계약년월</th>\n",
              "      <th>계약일</th>\n",
              "      <th>거래금액(만원)</th>\n",
              "      <th>층</th>\n",
              "      <th>건축년도</th>\n",
              "      <th>도로명</th>\n",
              "    </tr>\n",
              "  </thead>\n",
              "  <tbody>\n",
              "    <tr>\n",
              "      <th>0</th>\n",
              "      <td>서울특별시 강남구 개포동</td>\n",
              "      <td>141</td>\n",
              "      <td>141</td>\n",
              "      <td>0</td>\n",
              "      <td>개포주공 1단지</td>\n",
              "      <td>50.64</td>\n",
              "      <td>201902</td>\n",
              "      <td>1~10</td>\n",
              "      <td>162000</td>\n",
              "      <td>2</td>\n",
              "      <td>1982</td>\n",
              "      <td>개포로</td>\n",
              "    </tr>\n",
              "    <tr>\n",
              "      <th>1</th>\n",
              "      <td>서울특별시 강남구 개포동</td>\n",
              "      <td>187</td>\n",
              "      <td>187</td>\n",
              "      <td>0</td>\n",
              "      <td>개포주공 5단지</td>\n",
              "      <td>74.25</td>\n",
              "      <td>201902</td>\n",
              "      <td>11~20</td>\n",
              "      <td>153500</td>\n",
              "      <td>1</td>\n",
              "      <td>1983</td>\n",
              "      <td>삼성로4길</td>\n",
              "    </tr>\n",
              "    <tr>\n",
              "      <th>2</th>\n",
              "      <td>서울특별시 강남구 개포동</td>\n",
              "      <td>185</td>\n",
              "      <td>185</td>\n",
              "      <td>0</td>\n",
              "      <td>개포주공 6단지</td>\n",
              "      <td>60.13</td>\n",
              "      <td>201902</td>\n",
              "      <td>11~20</td>\n",
              "      <td>130000</td>\n",
              "      <td>5</td>\n",
              "      <td>1983</td>\n",
              "      <td>개포로</td>\n",
              "    </tr>\n",
              "    <tr>\n",
              "      <th>3</th>\n",
              "      <td>서울특별시 강남구 개포동</td>\n",
              "      <td>185</td>\n",
              "      <td>185</td>\n",
              "      <td>0</td>\n",
              "      <td>개포주공 7단지</td>\n",
              "      <td>60.76</td>\n",
              "      <td>201902</td>\n",
              "      <td>11~20</td>\n",
              "      <td>130500</td>\n",
              "      <td>9</td>\n",
              "      <td>1983</td>\n",
              "      <td>개포로</td>\n",
              "    </tr>\n",
              "    <tr>\n",
              "      <th>4</th>\n",
              "      <td>서울특별시 강남구 개포동</td>\n",
              "      <td>185</td>\n",
              "      <td>185</td>\n",
              "      <td>0</td>\n",
              "      <td>개포주공 7단지</td>\n",
              "      <td>53.46</td>\n",
              "      <td>201902</td>\n",
              "      <td>21~28</td>\n",
              "      <td>114000</td>\n",
              "      <td>14</td>\n",
              "      <td>1983</td>\n",
              "      <td>개포로</td>\n",
              "    </tr>\n",
              "  </tbody>\n",
              "</table>\n",
              "</div>"
            ],
            "text/plain": [
              "             시군구   번지   본번  부번       단지명  전용면적(㎡)    계약년월    계약일  거래금액(만원)  \\\n",
              "0  서울특별시 강남구 개포동  141  141   0  개포주공 1단지    50.64  201902   1~10    162000   \n",
              "1  서울특별시 강남구 개포동  187  187   0  개포주공 5단지    74.25  201902  11~20    153500   \n",
              "2  서울특별시 강남구 개포동  185  185   0  개포주공 6단지    60.13  201902  11~20    130000   \n",
              "3  서울특별시 강남구 개포동  185  185   0  개포주공 7단지    60.76  201902  11~20    130500   \n",
              "4  서울특별시 강남구 개포동  185  185   0  개포주공 7단지    53.46  201902  21~28    114000   \n",
              "\n",
              "    층  건축년도    도로명  \n",
              "0   2  1982    개포로  \n",
              "1   1  1983  삼성로4길  \n",
              "2   5  1983    개포로  \n",
              "3   9  1983    개포로  \n",
              "4  14  1983    개포로  "
            ]
          },
          "execution_count": 7,
          "metadata": {},
          "output_type": "execute_result"
        }
      ],
      "source": [
        "# 데이터 확인\n",
        "df.head()"
      ]
    },
    {
      "cell_type": "code",
      "execution_count": 8,
      "metadata": {
        "id": "DSnqO3SfwetD"
      },
      "outputs": [
        {
          "data": {
            "text/plain": [
              "(1164, 12)"
            ]
          },
          "execution_count": 8,
          "metadata": {},
          "output_type": "execute_result"
        }
      ],
      "source": [
        "# 데이터의 형상 확인\n",
        "df.shape"
      ]
    },
    {
      "cell_type": "code",
      "execution_count": 9,
      "metadata": {
        "id": "wiSHu7Wgweq6"
      },
      "outputs": [
        {
          "name": "stdout",
          "output_type": "stream",
          "text": [
            "<class 'pandas.core.frame.DataFrame'>\n",
            "RangeIndex: 1164 entries, 0 to 1163\n",
            "Data columns (total 12 columns):\n",
            " #   Column    Non-Null Count  Dtype  \n",
            "---  ------    --------------  -----  \n",
            " 0   시군구       1164 non-null   object \n",
            " 1   번지        1164 non-null   object \n",
            " 2   본번        1164 non-null   int64  \n",
            " 3   부번        1164 non-null   int64  \n",
            " 4   단지명       1164 non-null   object \n",
            " 5   전용면적(㎡)   1164 non-null   float64\n",
            " 6   계약년월      1164 non-null   int64  \n",
            " 7   계약일       1164 non-null   object \n",
            " 8   거래금액(만원)  1164 non-null   int64  \n",
            " 9   층         1164 non-null   int64  \n",
            " 10  건축년도      1164 non-null   int64  \n",
            " 11  도로명       1164 non-null   object \n",
            "dtypes: float64(1), int64(6), object(5)\n",
            "memory usage: 109.2+ KB\n"
          ]
        }
      ],
      "source": [
        "# 각 열의 정보와 메모리 확인\n",
        "df.info()"
      ]
    },
    {
      "cell_type": "code",
      "execution_count": 10,
      "metadata": {
        "id": "fdNwXWRyweoo"
      },
      "outputs": [
        {
          "data": {
            "text/plain": [
              "1164"
            ]
          },
          "execution_count": 10,
          "metadata": {},
          "output_type": "execute_result"
        }
      ],
      "source": [
        "# Step 2: 기술통계\n",
        "# '계약일' 열의 개수를 확인\n",
        "df['계약일'].count() # df.shape[0]"
      ]
    },
    {
      "cell_type": "code",
      "execution_count": 11,
      "metadata": {
        "id": "iK_MU0zswemd"
      },
      "outputs": [
        {
          "data": {
            "text/plain": [
              "array(['1~10', '11~20', '21~28', '21~31'], dtype=object)"
            ]
          },
          "execution_count": 11,
          "metadata": {},
          "output_type": "execute_result"
        }
      ],
      "source": [
        "# 특정 열 내의 유일한 값 확인\n",
        "pd.unique(df['계약일'])"
      ]
    },
    {
      "cell_type": "code",
      "execution_count": 12,
      "metadata": {
        "id": "rgRqCQOmydLW"
      },
      "outputs": [
        {
          "data": {
            "text/html": [
              "<div>\n",
              "<style scoped>\n",
              "    .dataframe tbody tr th:only-of-type {\n",
              "        vertical-align: middle;\n",
              "    }\n",
              "\n",
              "    .dataframe tbody tr th {\n",
              "        vertical-align: top;\n",
              "    }\n",
              "\n",
              "    .dataframe thead th {\n",
              "        text-align: right;\n",
              "    }\n",
              "</style>\n",
              "<table border=\"1\" class=\"dataframe\">\n",
              "  <thead>\n",
              "    <tr style=\"text-align: right;\">\n",
              "      <th></th>\n",
              "      <th>계약일</th>\n",
              "    </tr>\n",
              "  </thead>\n",
              "  <tbody>\n",
              "    <tr>\n",
              "      <th>count</th>\n",
              "      <td>1164</td>\n",
              "    </tr>\n",
              "    <tr>\n",
              "      <th>unique</th>\n",
              "      <td>4</td>\n",
              "    </tr>\n",
              "    <tr>\n",
              "      <th>top</th>\n",
              "      <td>11~20</td>\n",
              "    </tr>\n",
              "    <tr>\n",
              "      <th>freq</th>\n",
              "      <td>463</td>\n",
              "    </tr>\n",
              "  </tbody>\n",
              "</table>\n",
              "</div>"
            ],
            "text/plain": [
              "          계약일\n",
              "count    1164\n",
              "unique      4\n",
              "top     11~20\n",
              "freq      463"
            ]
          },
          "execution_count": 12,
          "metadata": {},
          "output_type": "execute_result"
        }
      ],
      "source": [
        "# 범주형 데이터의 통계를 확인\n",
        "df[['계약일']].describe() # categorical data이기 때문에 describe()에서 mean, var, std 등을 계산해주지 못한다."
      ]
    },
    {
      "cell_type": "code",
      "execution_count": 13,
      "metadata": {
        "id": "MGtrqrcUyhW2"
      },
      "outputs": [
        {
          "data": {
            "text/html": [
              "<div>\n",
              "<style scoped>\n",
              "    .dataframe tbody tr th:only-of-type {\n",
              "        vertical-align: middle;\n",
              "    }\n",
              "\n",
              "    .dataframe tbody tr th {\n",
              "        vertical-align: top;\n",
              "    }\n",
              "\n",
              "    .dataframe thead th {\n",
              "        text-align: right;\n",
              "    }\n",
              "</style>\n",
              "<table border=\"1\" class=\"dataframe\">\n",
              "  <thead>\n",
              "    <tr style=\"text-align: right;\">\n",
              "      <th></th>\n",
              "      <th>거래금액(만원)</th>\n",
              "    </tr>\n",
              "  </thead>\n",
              "  <tbody>\n",
              "    <tr>\n",
              "      <th>count</th>\n",
              "      <td>1164.000000</td>\n",
              "    </tr>\n",
              "    <tr>\n",
              "      <th>mean</th>\n",
              "      <td>58814.713058</td>\n",
              "    </tr>\n",
              "    <tr>\n",
              "      <th>std</th>\n",
              "      <td>46207.115723</td>\n",
              "    </tr>\n",
              "    <tr>\n",
              "      <th>min</th>\n",
              "      <td>7700.000000</td>\n",
              "    </tr>\n",
              "    <tr>\n",
              "      <th>25%</th>\n",
              "      <td>32000.000000</td>\n",
              "    </tr>\n",
              "    <tr>\n",
              "      <th>50%</th>\n",
              "      <td>45850.000000</td>\n",
              "    </tr>\n",
              "    <tr>\n",
              "      <th>75%</th>\n",
              "      <td>69000.000000</td>\n",
              "    </tr>\n",
              "    <tr>\n",
              "      <th>max</th>\n",
              "      <td>630000.000000</td>\n",
              "    </tr>\n",
              "  </tbody>\n",
              "</table>\n",
              "</div>"
            ],
            "text/plain": [
              "            거래금액(만원)\n",
              "count    1164.000000\n",
              "mean    58814.713058\n",
              "std     46207.115723\n",
              "min      7700.000000\n",
              "25%     32000.000000\n",
              "50%     45850.000000\n",
              "75%     69000.000000\n",
              "max    630000.000000"
            ]
          },
          "execution_count": 13,
          "metadata": {},
          "output_type": "execute_result"
        }
      ],
      "source": [
        "# '거래금액(만원)' 열의 개수, 평균, 표준편차, 범위와 사분위수 확인\n",
        "df[['거래금액(만원)']].describe()"
      ]
    },
    {
      "cell_type": "code",
      "execution_count": 14,
      "metadata": {
        "id": "F6hA3RwXynt5"
      },
      "outputs": [
        {
          "data": {
            "text/plain": [
              "거래금액(만원)    58814.713058\n",
              "dtype: float64"
            ]
          },
          "execution_count": 14,
          "metadata": {},
          "output_type": "execute_result"
        }
      ],
      "source": [
        "# Step 3: 평균, 중앙값, 최빈값 계산\n",
        "# 평균값 (mean)\n",
        "df[['거래금액(만원)']].mean()"
      ]
    },
    {
      "cell_type": "code",
      "execution_count": 15,
      "metadata": {
        "id": "uUzHcx80yrWh"
      },
      "outputs": [
        {
          "data": {
            "text/plain": [
              "거래금액(만원)    45850.0\n",
              "dtype: float64"
            ]
          },
          "execution_count": 15,
          "metadata": {},
          "output_type": "execute_result"
        }
      ],
      "source": [
        "# 중앙값 (median)\n",
        "df[['거래금액(만원)']].median()"
      ]
    },
    {
      "cell_type": "code",
      "execution_count": 16,
      "metadata": {},
      "outputs": [
        {
          "data": {
            "text/plain": [
              "60000    26\n",
              "35000    15\n",
              "31000    13\n",
              "40000    13\n",
              "46000    12\n",
              "         ..\n",
              "82500     1\n",
              "36600     1\n",
              "51800     1\n",
              "77500     1\n",
              "54400     1\n",
              "Name: 거래금액(만원), Length: 495, dtype: int64"
            ]
          },
          "execution_count": 16,
          "metadata": {},
          "output_type": "execute_result"
        }
      ],
      "source": [
        "df['거래금액(만원)'].value_counts() # -> "
      ]
    },
    {
      "cell_type": "code",
      "execution_count": 17,
      "metadata": {
        "id": "WEHCnSUZyrUJ"
      },
      "outputs": [
        {
          "data": {
            "text/html": [
              "<div>\n",
              "<style scoped>\n",
              "    .dataframe tbody tr th:only-of-type {\n",
              "        vertical-align: middle;\n",
              "    }\n",
              "\n",
              "    .dataframe tbody tr th {\n",
              "        vertical-align: top;\n",
              "    }\n",
              "\n",
              "    .dataframe thead th {\n",
              "        text-align: right;\n",
              "    }\n",
              "</style>\n",
              "<table border=\"1\" class=\"dataframe\">\n",
              "  <thead>\n",
              "    <tr style=\"text-align: right;\">\n",
              "      <th></th>\n",
              "      <th>거래금액(만원)</th>\n",
              "    </tr>\n",
              "  </thead>\n",
              "  <tbody>\n",
              "    <tr>\n",
              "      <th>0</th>\n",
              "      <td>60000</td>\n",
              "    </tr>\n",
              "  </tbody>\n",
              "</table>\n",
              "</div>"
            ],
            "text/plain": [
              "   거래금액(만원)\n",
              "0     60000"
            ]
          },
          "execution_count": 17,
          "metadata": {},
          "output_type": "execute_result"
        }
      ],
      "source": [
        "# 최빈값: 가장 많이 나타나는 값의 개수 (mode)\n",
        "df[['거래금액(만원)']].mode()\n",
        "\n",
        "# df['거래금액(만원)'].value_counts()  했을 때, 가장 위에 출력되는 값"
      ]
    },
    {
      "cell_type": "code",
      "execution_count": 18,
      "metadata": {
        "id": "nwrIlnwpyrSF"
      },
      "outputs": [
        {
          "data": {
            "text/plain": [
              "60000"
            ]
          },
          "execution_count": 18,
          "metadata": {},
          "output_type": "execute_result"
        }
      ],
      "source": [
        "# 최빈값의 사분위수 확인\n",
        "x = df['거래금액(만원)']\n",
        "bins = [.25, .5, .75] # 25%, 50%, 75% 지점\n",
        "m = df['거래금액(만원)'].mode()[0]\n",
        "m"
      ]
    },
    {
      "cell_type": "code",
      "execution_count": 19,
      "metadata": {
        "id": "i_qxXocUyrL0"
      },
      "outputs": [
        {
          "data": {
            "text/plain": [
              "array([0, 0])"
            ]
          },
          "execution_count": 19,
          "metadata": {},
          "output_type": "execute_result"
        }
      ],
      "source": [
        "# 넘파이 모듈의 histogram 함수를 사용하여 최빈값과 구간을 조회\n",
        "# 거래금액 열에 대한 히스토그램\n",
        "ns, _ = np.histogram(x, bins=bins)\n",
        "ns\n",
        "\n",
        "# def sum(a, b) :\n",
        "#    return a + b, a, b\n",
        "# c, _, _ = sum(4, 5)  ---> 필요하지 않은 부분은 _ 로 처리\n"
      ]
    },
    {
      "cell_type": "code",
      "execution_count": 20,
      "metadata": {
        "id": "blgxAZGPyrHY"
      },
      "outputs": [
        {
          "name": "stdout",
          "output_type": "stream",
          "text": [
            "최빈값 = 60000, 최빈구간 = 0.25~0.5\n"
          ]
        }
      ],
      "source": [
        "# 가장 빈도가 높은 인덱스 출력\n",
        "m_bin = np.argmax(ns)\n",
        "print(\"최빈값 = {}, 최빈구간 = {}~{}\".format(\n",
        "    m, bins[m_bin], bins[m_bin+1]))\n",
        "\n",
        "# 25% ~ 50% 사이에 가장 많은 거래내역이 있었다."
      ]
    },
    {
      "cell_type": "code",
      "execution_count": 21,
      "metadata": {
        "id": "wGWFGqxwyrC2"
      },
      "outputs": [],
      "source": [
        "# Step 4: 평균, 중앙값, 최빈값을 그래프로 표시하기\n",
        "import matplotlib.pyplot as plt\n",
        "import matplotlib as m_bin\n",
        "import seaborn as sns\n",
        "\n",
        "%matplotlib inline"
      ]
    },
    {
      "cell_type": "code",
      "execution_count": 22,
      "metadata": {
        "id": "si0jDuhTyrAs"
      },
      "outputs": [],
      "source": [
        "# 데이터프레임에서 거래금액 열을 변수 x에 할당\n",
        "# 평균, 중앙값, 최빈값 계산\n",
        "x = df['거래금액(만원)']\n",
        "sample_mean = x.mean()\n",
        "sample_median = x.median()\n",
        "sample_mode = x.mode()[0]"
      ]
    },
    {
      "cell_type": "code",
      "execution_count": 23,
      "metadata": {
        "id": "46bm5r0Vyq-R"
      },
      "outputs": [
        {
          "name": "stderr",
          "output_type": "stream",
          "text": [
            "/Users/ihyeongseob/opt/anaconda3/lib/python3.9/site-packages/seaborn/distributions.py:2619: FutureWarning: `distplot` is a deprecated function and will be removed in a future version. Please adapt your code to use either `displot` (a figure-level function with similar flexibility) or `histplot` (an axes-level function for histograms).\n",
            "  warnings.warn(msg, FutureWarning)\n"
          ]
        },
        {
          "data": {
            "image/png": "[encoded data removed]",
            "text/plain": [
              "<Figure size 640x480 with 1 Axes>"
            ]
          },
          "metadata": {},
          "output_type": "display_data"
        }
      ],
      "source": [
        "# 그래프 그리기\n",
        "sns.distplot(x)\n",
        "\n",
        "plt.axvline(sample_mean,   c='k', ls='-.', label='mean') # ls : linestyle, \n",
        "plt.axvline(sample_median, c='b', ls='--', label='median')\n",
        "plt.axvline(sample_mode,   c='r', ls='-.', label='mode')\n",
        "\n",
        "plt.title('Difference of mean, median, mode')\n",
        "plt.xlabel('x')\n",
        "plt.legend()\n",
        "\n",
        "plt.xlim(0, 175000)\n",
        "plt.show()"
      ]
    },
    {
      "cell_type": "markdown",
      "metadata": {
        "id": "0QHdmQke0H9p"
      },
      "source": [
        "### 2. 퍼진 정도 확인\n",
        "\n",
        "#### 예제: 퍼진 정도 알아보기"
      ]
    },
    {
      "cell_type": "code",
      "execution_count": 24,
      "metadata": {
        "id": "WyHIHrcVyq8F"
      },
      "outputs": [
        {
          "data": {
            "text/plain": [
              "거래금액(만원)    2.135098e+09\n",
              "dtype: float64"
            ]
          },
          "execution_count": 24,
          "metadata": {},
          "output_type": "execute_result"
        }
      ],
      "source": [
        "# Step 1: 분산\n",
        "df[['거래금액(만원)']].var()"
      ]
    },
    {
      "cell_type": "code",
      "execution_count": 25,
      "metadata": {
        "id": "83CCXNmeyq6I"
      },
      "outputs": [
        {
          "data": {
            "text/plain": [
              "거래금액(만원)    46207.115723\n",
              "dtype: float64"
            ]
          },
          "execution_count": 25,
          "metadata": {},
          "output_type": "execute_result"
        }
      ],
      "source": [
        "# Step 2: 표준편차\n",
        "df[['거래금액(만원)']].std()\n"
      ]
    },
    {
      "cell_type": "code",
      "execution_count": 26,
      "metadata": {
        "id": "Qp0aafXfyq36"
      },
      "outputs": [
        {
          "name": "stdout",
          "output_type": "stream",
          "text": [
            "거래금액(만원)    7700\n",
            "dtype: int64\n",
            "거래금액(만원)    630000\n",
            "dtype: int64\n"
          ]
        }
      ],
      "source": [
        "# Step 3: 범위\n",
        "print(df[['거래금액(만원)']].min()) \n",
        "print(df[['거래금액(만원)']].max())"
      ]
    },
    {
      "cell_type": "code",
      "execution_count": 27,
      "metadata": {
        "id": "A83whK_uHJ0b"
      },
      "outputs": [
        {
          "data": {
            "text/html": [
              "<div>\n",
              "<style scoped>\n",
              "    .dataframe tbody tr th:only-of-type {\n",
              "        vertical-align: middle;\n",
              "    }\n",
              "\n",
              "    .dataframe tbody tr th {\n",
              "        vertical-align: top;\n",
              "    }\n",
              "\n",
              "    .dataframe thead th {\n",
              "        text-align: right;\n",
              "    }\n",
              "</style>\n",
              "<table border=\"1\" class=\"dataframe\">\n",
              "  <thead>\n",
              "    <tr style=\"text-align: right;\">\n",
              "      <th></th>\n",
              "      <th>시군구</th>\n",
              "      <th>번지</th>\n",
              "      <th>본번</th>\n",
              "      <th>부번</th>\n",
              "      <th>단지명</th>\n",
              "      <th>전용면적(㎡)</th>\n",
              "      <th>계약년월</th>\n",
              "      <th>계약일</th>\n",
              "      <th>거래금액(만원)</th>\n",
              "      <th>층</th>\n",
              "      <th>건축년도</th>\n",
              "      <th>도로명</th>\n",
              "    </tr>\n",
              "  </thead>\n",
              "  <tbody>\n",
              "    <tr>\n",
              "      <th>312</th>\n",
              "      <td>서울특별시 구로구 오류동</td>\n",
              "      <td>34-13</td>\n",
              "      <td>34</td>\n",
              "      <td>13</td>\n",
              "      <td>썬앤빌</td>\n",
              "      <td>14.064</td>\n",
              "      <td>201902</td>\n",
              "      <td>1~10</td>\n",
              "      <td>7700</td>\n",
              "      <td>7</td>\n",
              "      <td>2014</td>\n",
              "      <td>경인로19가길</td>\n",
              "    </tr>\n",
              "    <tr>\n",
              "      <th>1120</th>\n",
              "      <td>서울특별시 중랑구 망우동</td>\n",
              "      <td>506-8</td>\n",
              "      <td>506</td>\n",
              "      <td>8</td>\n",
              "      <td>EG Soul Leader</td>\n",
              "      <td>13.420</td>\n",
              "      <td>201902</td>\n",
              "      <td>21~28</td>\n",
              "      <td>8900</td>\n",
              "      <td>6</td>\n",
              "      <td>2012</td>\n",
              "      <td>상봉로</td>\n",
              "    </tr>\n",
              "    <tr>\n",
              "      <th>265</th>\n",
              "      <td>서울특별시 구로구 구로동</td>\n",
              "      <td>797-19</td>\n",
              "      <td>797</td>\n",
              "      <td>19</td>\n",
              "      <td>(797-19)</td>\n",
              "      <td>35.580</td>\n",
              "      <td>201902</td>\n",
              "      <td>21~28</td>\n",
              "      <td>9000</td>\n",
              "      <td>1</td>\n",
              "      <td>1995</td>\n",
              "      <td>디지털로27라길</td>\n",
              "    </tr>\n",
              "  </tbody>\n",
              "</table>\n",
              "</div>"
            ],
            "text/plain": [
              "                시군구      번지   본번  부번             단지명  전용면적(㎡)    계약년월    계약일  \\\n",
              "312   서울특별시 구로구 오류동   34-13   34  13             썬앤빌   14.064  201902   1~10   \n",
              "1120  서울특별시 중랑구 망우동   506-8  506   8  EG Soul Leader   13.420  201902  21~28   \n",
              "265   서울특별시 구로구 구로동  797-19  797  19        (797-19)   35.580  201902  21~28   \n",
              "\n",
              "      거래금액(만원)  층  건축년도       도로명  \n",
              "312       7700  7  2014   경인로19가길  \n",
              "1120      8900  6  2012       상봉로  \n",
              "265       9000  1  1995  디지털로27라길  "
            ]
          },
          "execution_count": 27,
          "metadata": {},
          "output_type": "execute_result"
        }
      ],
      "source": [
        "# 최소값 확인\n",
        "# 작은 거래 금액 3개를 조회\n",
        "df.nsmallest(3, ['거래금액(만원)'])"
      ]
    },
    {
      "cell_type": "code",
      "execution_count": 28,
      "metadata": {
        "id": "R4r4gCOsHJpq"
      },
      "outputs": [
        {
          "data": {
            "text/html": [
              "<div>\n",
              "<style scoped>\n",
              "    .dataframe tbody tr th:only-of-type {\n",
              "        vertical-align: middle;\n",
              "    }\n",
              "\n",
              "    .dataframe tbody tr th {\n",
              "        vertical-align: top;\n",
              "    }\n",
              "\n",
              "    .dataframe thead th {\n",
              "        text-align: right;\n",
              "    }\n",
              "</style>\n",
              "<table border=\"1\" class=\"dataframe\">\n",
              "  <thead>\n",
              "    <tr style=\"text-align: right;\">\n",
              "      <th></th>\n",
              "      <th>시군구</th>\n",
              "      <th>번지</th>\n",
              "      <th>본번</th>\n",
              "      <th>부번</th>\n",
              "      <th>단지명</th>\n",
              "      <th>전용면적(㎡)</th>\n",
              "      <th>계약년월</th>\n",
              "      <th>계약일</th>\n",
              "      <th>거래금액(만원)</th>\n",
              "      <th>층</th>\n",
              "      <th>건축년도</th>\n",
              "      <th>도로명</th>\n",
              "    </tr>\n",
              "  </thead>\n",
              "  <tbody>\n",
              "    <tr>\n",
              "      <th>1007</th>\n",
              "      <td>서울특별시 용산구 한남동</td>\n",
              "      <td>810</td>\n",
              "      <td>810</td>\n",
              "      <td>0</td>\n",
              "      <td>한남더힐</td>\n",
              "      <td>240.23</td>\n",
              "      <td>201902</td>\n",
              "      <td>1~10</td>\n",
              "      <td>630000</td>\n",
              "      <td>-2</td>\n",
              "      <td>2011</td>\n",
              "      <td>독서당로</td>\n",
              "    </tr>\n",
              "    <tr>\n",
              "      <th>740</th>\n",
              "      <td>서울특별시 성동구 성수동1가</td>\n",
              "      <td>685-696</td>\n",
              "      <td>685</td>\n",
              "      <td>696</td>\n",
              "      <td>갤러리아 포레</td>\n",
              "      <td>195.20</td>\n",
              "      <td>201902</td>\n",
              "      <td>21~28</td>\n",
              "      <td>319000</td>\n",
              "      <td>13</td>\n",
              "      <td>2011</td>\n",
              "      <td>서울숲2길</td>\n",
              "    </tr>\n",
              "    <tr>\n",
              "      <th>9</th>\n",
              "      <td>서울특별시 강남구 대치동</td>\n",
              "      <td>670</td>\n",
              "      <td>670</td>\n",
              "      <td>0</td>\n",
              "      <td>동부센트레빌</td>\n",
              "      <td>161.47</td>\n",
              "      <td>201902</td>\n",
              "      <td>11~20</td>\n",
              "      <td>310000</td>\n",
              "      <td>22</td>\n",
              "      <td>2005</td>\n",
              "      <td>선릉로</td>\n",
              "    </tr>\n",
              "  </tbody>\n",
              "</table>\n",
              "</div>"
            ],
            "text/plain": [
              "                  시군구       번지   본번   부번      단지명  전용면적(㎡)    계약년월    계약일  \\\n",
              "1007    서울특별시 용산구 한남동      810  810    0     한남더힐   240.23  201902   1~10   \n",
              "740   서울특별시 성동구 성수동1가  685-696  685  696  갤러리아 포레   195.20  201902  21~28   \n",
              "9       서울특별시 강남구 대치동      670  670    0   동부센트레빌   161.47  201902  11~20   \n",
              "\n",
              "      거래금액(만원)   층  건축년도    도로명  \n",
              "1007    630000  -2  2011   독서당로  \n",
              "740     319000  13  2011  서울숲2길  \n",
              "9       310000  22  2005    선릉로  "
            ]
          },
          "execution_count": 28,
          "metadata": {},
          "output_type": "execute_result"
        }
      ],
      "source": [
        "# 큰 거래금액 3개를 조회\n",
        "df.nlargest(3, ['거래금액(만원)'])"
      ]
    },
    {
      "cell_type": "code",
      "execution_count": 29,
      "metadata": {
        "id": "0hB_XId7HJnc"
      },
      "outputs": [
        {
          "data": {
            "text/html": [
              "<div>\n",
              "<style scoped>\n",
              "    .dataframe tbody tr th:only-of-type {\n",
              "        vertical-align: middle;\n",
              "    }\n",
              "\n",
              "    .dataframe tbody tr th {\n",
              "        vertical-align: top;\n",
              "    }\n",
              "\n",
              "    .dataframe thead th {\n",
              "        text-align: right;\n",
              "    }\n",
              "</style>\n",
              "<table border=\"1\" class=\"dataframe\">\n",
              "  <thead>\n",
              "    <tr style=\"text-align: right;\">\n",
              "      <th></th>\n",
              "      <th>거래금액(만원)</th>\n",
              "    </tr>\n",
              "  </thead>\n",
              "  <tbody>\n",
              "    <tr>\n",
              "      <th>0.25</th>\n",
              "      <td>32000.0</td>\n",
              "    </tr>\n",
              "    <tr>\n",
              "      <th>0.50</th>\n",
              "      <td>45850.0</td>\n",
              "    </tr>\n",
              "    <tr>\n",
              "      <th>0.75</th>\n",
              "      <td>69000.0</td>\n",
              "    </tr>\n",
              "  </tbody>\n",
              "</table>\n",
              "</div>"
            ],
            "text/plain": [
              "      거래금액(만원)\n",
              "0.25   32000.0\n",
              "0.50   45850.0\n",
              "0.75   69000.0"
            ]
          },
          "execution_count": 29,
          "metadata": {},
          "output_type": "execute_result"
        }
      ],
      "source": [
        "# 사분위수\n",
        "df[['거래금액(만원)']].quantile([.25, .5, .75])"
      ]
    },
    {
      "cell_type": "code",
      "execution_count": 30,
      "metadata": {
        "id": "U30pLONOHJlS"
      },
      "outputs": [
        {
          "data": {
            "text/plain": [
              "<AxesSubplot:xlabel='계약년월', ylabel='거래금액(만원)'>"
            ]
          },
          "execution_count": 30,
          "metadata": {},
          "output_type": "execute_result"
        },
        {
          "name": "stderr",
          "output_type": "stream",
          "text": [
            "/Users/ihyeongseob/opt/anaconda3/lib/python3.9/site-packages/IPython/core/pylabtools.py:151: UserWarning: Glyph 44228 (\\N{HANGUL SYLLABLE GYE}) missing from current font.\n",
            "  fig.canvas.print_figure(bytes_io, **kw)\n",
            "/Users/ihyeongseob/opt/anaconda3/lib/python3.9/site-packages/IPython/core/pylabtools.py:151: UserWarning: Glyph 50557 (\\N{HANGUL SYLLABLE YAG}) missing from current font.\n",
            "  fig.canvas.print_figure(bytes_io, **kw)\n",
            "/Users/ihyeongseob/opt/anaconda3/lib/python3.9/site-packages/IPython/core/pylabtools.py:151: UserWarning: Glyph 45380 (\\N{HANGUL SYLLABLE NYEON}) missing from current font.\n",
            "  fig.canvas.print_figure(bytes_io, **kw)\n",
            "/Users/ihyeongseob/opt/anaconda3/lib/python3.9/site-packages/IPython/core/pylabtools.py:151: UserWarning: Glyph 50900 (\\N{HANGUL SYLLABLE WEOL}) missing from current font.\n",
            "  fig.canvas.print_figure(bytes_io, **kw)\n",
            "/Users/ihyeongseob/opt/anaconda3/lib/python3.9/site-packages/IPython/core/pylabtools.py:151: UserWarning: Glyph 44144 (\\N{HANGUL SYLLABLE GEO}) missing from current font.\n",
            "  fig.canvas.print_figure(bytes_io, **kw)\n",
            "/Users/ihyeongseob/opt/anaconda3/lib/python3.9/site-packages/IPython/core/pylabtools.py:151: UserWarning: Glyph 47000 (\\N{HANGUL SYLLABLE RAE}) missing from current font.\n",
            "  fig.canvas.print_figure(bytes_io, **kw)\n",
            "/Users/ihyeongseob/opt/anaconda3/lib/python3.9/site-packages/IPython/core/pylabtools.py:151: UserWarning: Glyph 44552 (\\N{HANGUL SYLLABLE GEUM}) missing from current font.\n",
            "  fig.canvas.print_figure(bytes_io, **kw)\n",
            "/Users/ihyeongseob/opt/anaconda3/lib/python3.9/site-packages/IPython/core/pylabtools.py:151: UserWarning: Glyph 50529 (\\N{HANGUL SYLLABLE AEG}) missing from current font.\n",
            "  fig.canvas.print_figure(bytes_io, **kw)\n",
            "/Users/ihyeongseob/opt/anaconda3/lib/python3.9/site-packages/IPython/core/pylabtools.py:151: UserWarning: Glyph 47564 (\\N{HANGUL SYLLABLE MAN}) missing from current font.\n",
            "  fig.canvas.print_figure(bytes_io, **kw)\n",
            "/Users/ihyeongseob/opt/anaconda3/lib/python3.9/site-packages/IPython/core/pylabtools.py:151: UserWarning: Glyph 50896 (\\N{HANGUL SYLLABLE WEON}) missing from current font.\n",
            "  fig.canvas.print_figure(bytes_io, **kw)\n"
          ]
        },
        {
          "data": {
            "image/png": "[encoded data removed]",
            "text/plain": [
              "<Figure size 640x480 with 1 Axes>"
            ]
          },
          "metadata": {},
          "output_type": "display_data"
        }
      ],
      "source": [
        "# 계약년월, 거래금액(만원) 그래프 그리기\n",
        "sns.boxplot(x='계약년월', y='거래금액(만원)', data=df)"
      ]
    },
    {
      "cell_type": "code",
      "execution_count": 31,
      "metadata": {
        "id": "CdGRrZFCHJjE"
      },
      "outputs": [
        {
          "data": {
            "text/plain": [
              "<AxesSubplot:xlabel='계약년월', ylabel='거래금액(만원)'>"
            ]
          },
          "execution_count": 31,
          "metadata": {},
          "output_type": "execute_result"
        },
        {
          "name": "stderr",
          "output_type": "stream",
          "text": [
            "/Users/ihyeongseob/opt/anaconda3/lib/python3.9/site-packages/IPython/core/pylabtools.py:151: UserWarning: Glyph 44228 (\\N{HANGUL SYLLABLE GYE}) missing from current font.\n",
            "  fig.canvas.print_figure(bytes_io, **kw)\n",
            "/Users/ihyeongseob/opt/anaconda3/lib/python3.9/site-packages/IPython/core/pylabtools.py:151: UserWarning: Glyph 50557 (\\N{HANGUL SYLLABLE YAG}) missing from current font.\n",
            "  fig.canvas.print_figure(bytes_io, **kw)\n",
            "/Users/ihyeongseob/opt/anaconda3/lib/python3.9/site-packages/IPython/core/pylabtools.py:151: UserWarning: Glyph 45380 (\\N{HANGUL SYLLABLE NYEON}) missing from current font.\n",
            "  fig.canvas.print_figure(bytes_io, **kw)\n",
            "/Users/ihyeongseob/opt/anaconda3/lib/python3.9/site-packages/IPython/core/pylabtools.py:151: UserWarning: Glyph 50900 (\\N{HANGUL SYLLABLE WEOL}) missing from current font.\n",
            "  fig.canvas.print_figure(bytes_io, **kw)\n",
            "/Users/ihyeongseob/opt/anaconda3/lib/python3.9/site-packages/IPython/core/pylabtools.py:151: UserWarning: Glyph 44144 (\\N{HANGUL SYLLABLE GEO}) missing from current font.\n",
            "  fig.canvas.print_figure(bytes_io, **kw)\n",
            "/Users/ihyeongseob/opt/anaconda3/lib/python3.9/site-packages/IPython/core/pylabtools.py:151: UserWarning: Glyph 47000 (\\N{HANGUL SYLLABLE RAE}) missing from current font.\n",
            "  fig.canvas.print_figure(bytes_io, **kw)\n",
            "/Users/ihyeongseob/opt/anaconda3/lib/python3.9/site-packages/IPython/core/pylabtools.py:151: UserWarning: Glyph 44552 (\\N{HANGUL SYLLABLE GEUM}) missing from current font.\n",
            "  fig.canvas.print_figure(bytes_io, **kw)\n",
            "/Users/ihyeongseob/opt/anaconda3/lib/python3.9/site-packages/IPython/core/pylabtools.py:151: UserWarning: Glyph 50529 (\\N{HANGUL SYLLABLE AEG}) missing from current font.\n",
            "  fig.canvas.print_figure(bytes_io, **kw)\n",
            "/Users/ihyeongseob/opt/anaconda3/lib/python3.9/site-packages/IPython/core/pylabtools.py:151: UserWarning: Glyph 47564 (\\N{HANGUL SYLLABLE MAN}) missing from current font.\n",
            "  fig.canvas.print_figure(bytes_io, **kw)\n",
            "/Users/ihyeongseob/opt/anaconda3/lib/python3.9/site-packages/IPython/core/pylabtools.py:151: UserWarning: Glyph 50896 (\\N{HANGUL SYLLABLE WEON}) missing from current font.\n",
            "  fig.canvas.print_figure(bytes_io, **kw)\n",
            "/Users/ihyeongseob/opt/anaconda3/lib/python3.9/site-packages/IPython/core/pylabtools.py:151: UserWarning: Glyph 51068 (\\N{HANGUL SYLLABLE IL}) missing from current font.\n",
            "  fig.canvas.print_figure(bytes_io, **kw)\n"
          ]
        },
        {
          "data": {
            "image/png": "[encoded data removed]",
            "text/plain": [
              "<Figure size 640x480 with 1 Axes>"
            ]
          },
          "metadata": {},
          "output_type": "display_data"
        }
      ],
      "source": [
        "# 계약일로 데이터 구분하여 그리기\n",
        "sns.boxplot(x='계약년월', y='거래금액(만원)', \n",
        "            hue='계약일',  # 계약일이 4개의 unique한 값을 가지고 있었다. ['1~10', '11~20', '21~28', '21~31'] 이 4개로 나누어서 계약일을 그리게 된다.\n",
        "            data=df)"
      ]
    },
    {
      "cell_type": "code",
      "execution_count": 35,
      "metadata": {
        "id": "AzedxTiBHJg2"
      },
      "outputs": [
        {
          "name": "stdout",
          "output_type": "stream",
          "text": [
            "거래금액(만원)    3.323032\n",
            "dtype: float64\n",
            "거래금액(만원)    23.694861\n",
            "dtype: float64\n"
          ]
        }
      ],
      "source": [
        "# Step 4: 왜도 (skewness) 와 첨도 (kurtosis)\n",
        "# 왜도: 평균과의 거리의 세 제곱을 이용해 구한 특정값\n",
        "#      -> 평균에서 치우친 정도 \n",
        "# 첨도: 평균과의 거리의 네 제곱을 이용해 구한 특정값\n",
        "#      -> 중앙값에 모인 정도\n",
        "print(df[['거래금액(만원)']].skew())\n",
        "print(df[['거래금액(만원)']].kurtosis())"
      ]
    },
    {
      "cell_type": "code",
      "execution_count": 45,
      "metadata": {
        "id": "5ct_VyJ1HJer"
      },
      "outputs": [],
      "source": [
        "# 그래프를 통한 평균과 왜도 차이 확인\n",
        "# 평균 및 왜도 계산\n",
        "x = df[['거래금액(만원)']]\n",
        "sample_mean = x.mean()\n",
        "sample_skew = x.skew()[0]"
      ]
    },
    {
      "cell_type": "code",
      "execution_count": 46,
      "metadata": {
        "id": "jmCdeGnu2Uol"
      },
      "outputs": [
        {
          "data": {
            "text/plain": [
              "(거래금액(만원)    58814.713058\n",
              " dtype: float64,\n",
              " 3.32303158058581)"
            ]
          },
          "execution_count": 46,
          "metadata": {},
          "output_type": "execute_result"
        }
      ],
      "source": [
        "sample_mean, sample_skew"
      ]
    },
    {
      "cell_type": "code",
      "execution_count": 47,
      "metadata": {
        "id": "S6uxWZhzHJcf"
      },
      "outputs": [
        {
          "ename": "ValueError",
          "evalue": "The truth value of a Series is ambiguous. Use a.empty, a.bool(), a.item(), a.any() or a.all().",
          "output_type": "error",
          "traceback": [
            "\u001b[0;31m---------------------------------------------------------------------------\u001b[0m",
            "\u001b[0;31mValueError\u001b[0m                                Traceback (most recent call last)",
            "\u001b[0;32m/var/folders/9q/y4ybk96d7nb9d0spg4xhbx7m0000gn/T/ipykernel_4490/202461202.py\u001b[0m in \u001b[0;36m<module>\u001b[0;34m\u001b[0m\n\u001b[1;32m      2\u001b[0m \u001b[0msns\u001b[0m\u001b[0;34m.\u001b[0m\u001b[0mhistplot\u001b[0m\u001b[0;34m(\u001b[0m\u001b[0mx\u001b[0m\u001b[0;34m)\u001b[0m\u001b[0;34m\u001b[0m\u001b[0;34m\u001b[0m\u001b[0m\n\u001b[1;32m      3\u001b[0m \u001b[0;34m\u001b[0m\u001b[0m\n\u001b[0;32m----> 4\u001b[0;31m \u001b[0mplt\u001b[0m\u001b[0;34m.\u001b[0m\u001b[0maxvline\u001b[0m\u001b[0;34m(\u001b[0m\u001b[0msample_mean\u001b[0m\u001b[0;34m,\u001b[0m \u001b[0mc\u001b[0m\u001b[0;34m=\u001b[0m\u001b[0;34m'k'\u001b[0m\u001b[0;34m,\u001b[0m \u001b[0mls\u001b[0m\u001b[0;34m=\u001b[0m\u001b[0;34m'-.'\u001b[0m\u001b[0;34m,\u001b[0m \u001b[0mlabel\u001b[0m\u001b[0;34m=\u001b[0m\u001b[0;34m'mean'\u001b[0m\u001b[0;34m)\u001b[0m\u001b[0;34m\u001b[0m\u001b[0;34m\u001b[0m\u001b[0m\n\u001b[0m\u001b[1;32m      5\u001b[0m \u001b[0mplt\u001b[0m\u001b[0;34m.\u001b[0m\u001b[0maxvline\u001b[0m\u001b[0;34m(\u001b[0m\u001b[0msample_skew\u001b[0m\u001b[0;34m,\u001b[0m \u001b[0mc\u001b[0m\u001b[0;34m=\u001b[0m\u001b[0;34m'b'\u001b[0m\u001b[0;34m,\u001b[0m \u001b[0mls\u001b[0m\u001b[0;34m=\u001b[0m\u001b[0;34m'-.'\u001b[0m\u001b[0;34m,\u001b[0m \u001b[0mlabel\u001b[0m\u001b[0;34m=\u001b[0m\u001b[0;34m'skewness'\u001b[0m\u001b[0;34m)\u001b[0m\u001b[0;34m\u001b[0m\u001b[0;34m\u001b[0m\u001b[0m\n\u001b[1;32m      6\u001b[0m \u001b[0;34m\u001b[0m\u001b[0m\n",
            "\u001b[0;32m~/opt/anaconda3/lib/python3.9/site-packages/matplotlib/pyplot.py\u001b[0m in \u001b[0;36maxvline\u001b[0;34m(x, ymin, ymax, **kwargs)\u001b[0m\n\u001b[1;32m   2383\u001b[0m \u001b[0;34m@\u001b[0m\u001b[0m_copy_docstring_and_deprecators\u001b[0m\u001b[0;34m(\u001b[0m\u001b[0mAxes\u001b[0m\u001b[0;34m.\u001b[0m\u001b[0maxvline\u001b[0m\u001b[0;34m)\u001b[0m\u001b[0;34m\u001b[0m\u001b[0;34m\u001b[0m\u001b[0m\n\u001b[1;32m   2384\u001b[0m \u001b[0;32mdef\u001b[0m \u001b[0maxvline\u001b[0m\u001b[0;34m(\u001b[0m\u001b[0mx\u001b[0m\u001b[0;34m=\u001b[0m\u001b[0;36m0\u001b[0m\u001b[0;34m,\u001b[0m \u001b[0mymin\u001b[0m\u001b[0;34m=\u001b[0m\u001b[0;36m0\u001b[0m\u001b[0;34m,\u001b[0m \u001b[0mymax\u001b[0m\u001b[0;34m=\u001b[0m\u001b[0;36m1\u001b[0m\u001b[0;34m,\u001b[0m \u001b[0;34m**\u001b[0m\u001b[0mkwargs\u001b[0m\u001b[0;34m)\u001b[0m\u001b[0;34m:\u001b[0m\u001b[0;34m\u001b[0m\u001b[0;34m\u001b[0m\u001b[0m\n\u001b[0;32m-> 2385\u001b[0;31m     \u001b[0;32mreturn\u001b[0m \u001b[0mgca\u001b[0m\u001b[0;34m(\u001b[0m\u001b[0;34m)\u001b[0m\u001b[0;34m.\u001b[0m\u001b[0maxvline\u001b[0m\u001b[0;34m(\u001b[0m\u001b[0mx\u001b[0m\u001b[0;34m=\u001b[0m\u001b[0mx\u001b[0m\u001b[0;34m,\u001b[0m \u001b[0mymin\u001b[0m\u001b[0;34m=\u001b[0m\u001b[0mymin\u001b[0m\u001b[0;34m,\u001b[0m \u001b[0mymax\u001b[0m\u001b[0;34m=\u001b[0m\u001b[0mymax\u001b[0m\u001b[0;34m,\u001b[0m \u001b[0;34m**\u001b[0m\u001b[0mkwargs\u001b[0m\u001b[0;34m)\u001b[0m\u001b[0;34m\u001b[0m\u001b[0;34m\u001b[0m\u001b[0m\n\u001b[0m\u001b[1;32m   2386\u001b[0m \u001b[0;34m\u001b[0m\u001b[0m\n\u001b[1;32m   2387\u001b[0m \u001b[0;34m\u001b[0m\u001b[0m\n",
            "\u001b[0;32m~/opt/anaconda3/lib/python3.9/site-packages/matplotlib/axes/_axes.py\u001b[0m in \u001b[0;36maxvline\u001b[0;34m(self, x, ymin, ymax, **kwargs)\u001b[0m\n\u001b[1;32m    799\u001b[0m         \u001b[0;31m# Strip away the units for comparison with non-unitized bounds.\u001b[0m\u001b[0;34m\u001b[0m\u001b[0;34m\u001b[0m\u001b[0m\n\u001b[1;32m    800\u001b[0m         \u001b[0mxx\u001b[0m\u001b[0;34m,\u001b[0m \u001b[0;34m=\u001b[0m \u001b[0mself\u001b[0m\u001b[0;34m.\u001b[0m\u001b[0m_process_unit_info\u001b[0m\u001b[0;34m(\u001b[0m\u001b[0;34m[\u001b[0m\u001b[0;34m(\u001b[0m\u001b[0;34m\"x\"\u001b[0m\u001b[0;34m,\u001b[0m \u001b[0mx\u001b[0m\u001b[0;34m)\u001b[0m\u001b[0;34m]\u001b[0m\u001b[0;34m,\u001b[0m \u001b[0mkwargs\u001b[0m\u001b[0;34m)\u001b[0m\u001b[0;34m\u001b[0m\u001b[0;34m\u001b[0m\u001b[0m\n\u001b[0;32m--> 801\u001b[0;31m         \u001b[0mscalex\u001b[0m \u001b[0;34m=\u001b[0m \u001b[0;34m(\u001b[0m\u001b[0mxx\u001b[0m \u001b[0;34m<\u001b[0m \u001b[0mxmin\u001b[0m\u001b[0;34m)\u001b[0m \u001b[0;32mor\u001b[0m \u001b[0;34m(\u001b[0m\u001b[0mxx\u001b[0m \u001b[0;34m>\u001b[0m \u001b[0mxmax\u001b[0m\u001b[0;34m)\u001b[0m\u001b[0;34m\u001b[0m\u001b[0;34m\u001b[0m\u001b[0m\n\u001b[0m\u001b[1;32m    802\u001b[0m \u001b[0;34m\u001b[0m\u001b[0m\n\u001b[1;32m    803\u001b[0m         \u001b[0mtrans\u001b[0m \u001b[0;34m=\u001b[0m \u001b[0mself\u001b[0m\u001b[0;34m.\u001b[0m\u001b[0mget_xaxis_transform\u001b[0m\u001b[0;34m(\u001b[0m\u001b[0mwhich\u001b[0m\u001b[0;34m=\u001b[0m\u001b[0;34m'grid'\u001b[0m\u001b[0;34m)\u001b[0m\u001b[0;34m\u001b[0m\u001b[0;34m\u001b[0m\u001b[0m\n",
            "\u001b[0;32m~/opt/anaconda3/lib/python3.9/site-packages/pandas/core/generic.py\u001b[0m in \u001b[0;36m__nonzero__\u001b[0;34m(self)\u001b[0m\n\u001b[1;32m   1525\u001b[0m     \u001b[0;34m@\u001b[0m\u001b[0mfinal\u001b[0m\u001b[0;34m\u001b[0m\u001b[0;34m\u001b[0m\u001b[0m\n\u001b[1;32m   1526\u001b[0m     \u001b[0;32mdef\u001b[0m \u001b[0m__nonzero__\u001b[0m\u001b[0;34m(\u001b[0m\u001b[0mself\u001b[0m\u001b[0;34m)\u001b[0m\u001b[0;34m:\u001b[0m\u001b[0;34m\u001b[0m\u001b[0;34m\u001b[0m\u001b[0m\n\u001b[0;32m-> 1527\u001b[0;31m         raise ValueError(\n\u001b[0m\u001b[1;32m   1528\u001b[0m             \u001b[0;34mf\"The truth value of a {type(self).__name__} is ambiguous. \"\u001b[0m\u001b[0;34m\u001b[0m\u001b[0;34m\u001b[0m\u001b[0m\n\u001b[1;32m   1529\u001b[0m             \u001b[0;34m\"Use a.empty, a.bool(), a.item(), a.any() or a.all().\"\u001b[0m\u001b[0;34m\u001b[0m\u001b[0;34m\u001b[0m\u001b[0m\n",
            "\u001b[0;31mValueError\u001b[0m: The truth value of a Series is ambiguous. Use a.empty, a.bool(), a.item(), a.any() or a.all()."
          ]
        },
        {
          "name": "stderr",
          "output_type": "stream",
          "text": [
            "/Users/ihyeongseob/opt/anaconda3/lib/python3.9/site-packages/IPython/core/pylabtools.py:151: UserWarning: Glyph 44144 (\\N{HANGUL SYLLABLE GEO}) missing from current font.\n",
            "  fig.canvas.print_figure(bytes_io, **kw)\n",
            "/Users/ihyeongseob/opt/anaconda3/lib/python3.9/site-packages/IPython/core/pylabtools.py:151: UserWarning: Glyph 47000 (\\N{HANGUL SYLLABLE RAE}) missing from current font.\n",
            "  fig.canvas.print_figure(bytes_io, **kw)\n",
            "/Users/ihyeongseob/opt/anaconda3/lib/python3.9/site-packages/IPython/core/pylabtools.py:151: UserWarning: Glyph 44552 (\\N{HANGUL SYLLABLE GEUM}) missing from current font.\n",
            "  fig.canvas.print_figure(bytes_io, **kw)\n",
            "/Users/ihyeongseob/opt/anaconda3/lib/python3.9/site-packages/IPython/core/pylabtools.py:151: UserWarning: Glyph 50529 (\\N{HANGUL SYLLABLE AEG}) missing from current font.\n",
            "  fig.canvas.print_figure(bytes_io, **kw)\n",
            "/Users/ihyeongseob/opt/anaconda3/lib/python3.9/site-packages/IPython/core/pylabtools.py:151: UserWarning: Glyph 47564 (\\N{HANGUL SYLLABLE MAN}) missing from current font.\n",
            "  fig.canvas.print_figure(bytes_io, **kw)\n",
            "/Users/ihyeongseob/opt/anaconda3/lib/python3.9/site-packages/IPython/core/pylabtools.py:151: UserWarning: Glyph 50896 (\\N{HANGUL SYLLABLE WEON}) missing from current font.\n",
            "  fig.canvas.print_figure(bytes_io, **kw)\n"
          ]
        },
        {
          "data": {
            "image/png": "[encoded data removed]",
            "text/plain": [
              "<Figure size 640x480 with 1 Axes>"
            ]
          },
          "metadata": {},
          "output_type": "display_data"
        }
      ],
      "source": [
        "# 그래프 그리기\n",
        "sns.histplot(x)\n",
        "\n",
        "plt.axvline(sample_mean, c='k', ls='-.', label='mean')\n",
        "plt.axvline(sample_skew, c='b', ls='-.', label='skewness')\n",
        "\n",
        "plt.title('왜도, 평균의 차이')\n",
        "plt.xlabel('x')\n",
        "# plt.xlim(0, 175000)\n",
        "plt.legend()\n",
        "plt.show()"
      ]
    },
    {
      "cell_type": "code",
      "execution_count": 48,
      "metadata": {
        "id": "T_2FnFBYHJaT"
      },
      "outputs": [],
      "source": [
        "# 데이터를 로그로 변환하여 값을 정규화\n",
        "# 실제 왜도가 평균보다 좌측에 있는지 확인하기 위함\n",
        "\n",
        "import scipy as sp\n",
        "x = np.log10(df['거래금액(만원)']) # log를 씌워서 전체 거래금액의 크기를 조정 (큰값은 매우 작아지고, 작은값은 큰값에 비해서 덜 작아짐)\n",
        "sample_mean = x.mean()\n",
        "sample_skew = sp.stats.skew(df[['거래금액(만원)']])[0]"
      ]
    },
    {
      "cell_type": "code",
      "execution_count": 49,
      "metadata": {
        "id": "jWCeRCNFHJYP"
      },
      "outputs": [
        {
          "data": {
            "text/plain": [
              "(4.673121395132599, 3.318747789590563)"
            ]
          },
          "execution_count": 49,
          "metadata": {},
          "output_type": "execute_result"
        }
      ],
      "source": [
        "sample_mean, sample_skew # log를 씌워서 계산한 mean과 skew가 나옴.\n",
        "\n",
        "# -> 평균보다 작은 부분에 데이터가 몰려있다"
      ]
    },
    {
      "cell_type": "code",
      "execution_count": 52,
      "metadata": {
        "id": "Dy2ODKh_HJWW"
      },
      "outputs": [
        {
          "data": {
            "image/png": "[encoded data removed]",
            "text/plain": [
              "<Figure size 640x480 with 1 Axes>"
            ]
          },
          "metadata": {},
          "output_type": "display_data"
        }
      ],
      "source": [
        "# 그래프 그리기\n",
        "sns.histplot(x)\n",
        "plt.axvline(sample_mean, c='k', ls='-.', label='mean')\n",
        "plt.axvline(sample_skew, c='b', ls='-.', label='skewness')\n",
        "\n",
        "plt.title('mena and skew') \n",
        "plt.xlabel('x')\n",
        "plt.legend()\n",
        "plt.show()"
      ]
    },
    {
      "cell_type": "markdown",
      "metadata": {
        "id": "dPc8bdaHxjz0"
      },
      "source": [
        "### 3. 공공 데이터 분석\n",
        "\n",
        "#### 예제: 공공 데이터 정재"
      ]
    },
    {
      "cell_type": "code",
      "execution_count": null,
      "metadata": {
        "id": "a_7-hr3axsvh"
      },
      "outputs": [],
      "source": [
        "# 건강검진 데이터 다운로드\n",
        "\n",
        "# gdrive link: https://drive.google.com/file/d/18GJbdztBwqWc43SdAWVstq-a0se14oL_/view?usp=share_link"
      ]
    },
    {
      "cell_type": "code",
      "execution_count": 53,
      "metadata": {
        "id": "9-b-U3sfxubs"
      },
      "outputs": [],
      "source": [
        "import pandas as pd\n",
        "import numpy as np\n",
        "import matplotlib.pyplot as plt\n",
        "import seaborn as sns \n",
        "from IPython.display import display\n",
        "from warnings import filterwarnings\n",
        "\n",
        "%matplotlib inline"
      ]
    },
    {
      "cell_type": "code",
      "execution_count": 55,
      "metadata": {
        "id": "nJMwOSsn1hJA"
      },
      "outputs": [
        {
          "data": {
            "text/html": [
              "<div>\n",
              "<style scoped>\n",
              "    .dataframe tbody tr th:only-of-type {\n",
              "        vertical-align: middle;\n",
              "    }\n",
              "\n",
              "    .dataframe tbody tr th {\n",
              "        vertical-align: top;\n",
              "    }\n",
              "\n",
              "    .dataframe thead th {\n",
              "        text-align: right;\n",
              "    }\n",
              "</style>\n",
              "<table border=\"1\" class=\"dataframe\">\n",
              "  <thead>\n",
              "    <tr style=\"text-align: right;\">\n",
              "      <th></th>\n",
              "      <th>가입자일련번호</th>\n",
              "      <th>기준년도</th>\n",
              "      <th>성별코드</th>\n",
              "      <th>연령대코드(5세단위)</th>\n",
              "      <th>시도코드</th>\n",
              "      <th>신장(5Cm단위)</th>\n",
              "      <th>체중(5Kg 단위)</th>\n",
              "      <th>허리둘레</th>\n",
              "      <th>시력(좌)</th>\n",
              "      <th>시력(우)</th>\n",
              "      <th>...</th>\n",
              "      <th>혈청크레아티닌</th>\n",
              "      <th>(혈청지오티)AST</th>\n",
              "      <th>(혈청지오티)ALT</th>\n",
              "      <th>감마지티피</th>\n",
              "      <th>흡연상태</th>\n",
              "      <th>음주여부</th>\n",
              "      <th>구강검진 수검여부</th>\n",
              "      <th>치아우식증유무</th>\n",
              "      <th>치석유무</th>\n",
              "      <th>데이터 기준일자</th>\n",
              "    </tr>\n",
              "  </thead>\n",
              "  <tbody>\n",
              "    <tr>\n",
              "      <th>0</th>\n",
              "      <td>2</td>\n",
              "      <td>2014</td>\n",
              "      <td>2</td>\n",
              "      <td>18</td>\n",
              "      <td>41</td>\n",
              "      <td>150</td>\n",
              "      <td>65</td>\n",
              "      <td>79</td>\n",
              "      <td>0.1</td>\n",
              "      <td>0.1</td>\n",
              "      <td>...</td>\n",
              "      <td>0.8</td>\n",
              "      <td>11</td>\n",
              "      <td>4</td>\n",
              "      <td>15</td>\n",
              "      <td>1.0</td>\n",
              "      <td>1.0</td>\n",
              "      <td>0</td>\n",
              "      <td>NaN</td>\n",
              "      <td>NaN</td>\n",
              "      <td>20161220</td>\n",
              "    </tr>\n",
              "    <tr>\n",
              "      <th>1</th>\n",
              "      <td>3</td>\n",
              "      <td>2014</td>\n",
              "      <td>1</td>\n",
              "      <td>12</td>\n",
              "      <td>41</td>\n",
              "      <td>170</td>\n",
              "      <td>70</td>\n",
              "      <td>95</td>\n",
              "      <td>0.8</td>\n",
              "      <td>1.0</td>\n",
              "      <td>...</td>\n",
              "      <td>0.6</td>\n",
              "      <td>138</td>\n",
              "      <td>73</td>\n",
              "      <td>112</td>\n",
              "      <td>3.0</td>\n",
              "      <td>1.0</td>\n",
              "      <td>1</td>\n",
              "      <td>0.0</td>\n",
              "      <td>1.0</td>\n",
              "      <td>20161220</td>\n",
              "    </tr>\n",
              "    <tr>\n",
              "      <th>2</th>\n",
              "      <td>4</td>\n",
              "      <td>2014</td>\n",
              "      <td>2</td>\n",
              "      <td>11</td>\n",
              "      <td>41</td>\n",
              "      <td>165</td>\n",
              "      <td>80</td>\n",
              "      <td>104</td>\n",
              "      <td>0.8</td>\n",
              "      <td>0.2</td>\n",
              "      <td>...</td>\n",
              "      <td>0.9</td>\n",
              "      <td>19</td>\n",
              "      <td>14</td>\n",
              "      <td>21</td>\n",
              "      <td>1.0</td>\n",
              "      <td>0.0</td>\n",
              "      <td>1</td>\n",
              "      <td>0.0</td>\n",
              "      <td>1.0</td>\n",
              "      <td>20161220</td>\n",
              "    </tr>\n",
              "    <tr>\n",
              "      <th>3</th>\n",
              "      <td>8</td>\n",
              "      <td>2014</td>\n",
              "      <td>2</td>\n",
              "      <td>11</td>\n",
              "      <td>41</td>\n",
              "      <td>145</td>\n",
              "      <td>55</td>\n",
              "      <td>93</td>\n",
              "      <td>0.9</td>\n",
              "      <td>0.9</td>\n",
              "      <td>...</td>\n",
              "      <td>1.2</td>\n",
              "      <td>34</td>\n",
              "      <td>16</td>\n",
              "      <td>175</td>\n",
              "      <td>1.0</td>\n",
              "      <td>1.0</td>\n",
              "      <td>0</td>\n",
              "      <td>NaN</td>\n",
              "      <td>NaN</td>\n",
              "      <td>20161220</td>\n",
              "    </tr>\n",
              "    <tr>\n",
              "      <th>4</th>\n",
              "      <td>9</td>\n",
              "      <td>2014</td>\n",
              "      <td>2</td>\n",
              "      <td>18</td>\n",
              "      <td>41</td>\n",
              "      <td>140</td>\n",
              "      <td>35</td>\n",
              "      <td>78</td>\n",
              "      <td>0.2</td>\n",
              "      <td>0.1</td>\n",
              "      <td>...</td>\n",
              "      <td>0.5</td>\n",
              "      <td>30</td>\n",
              "      <td>10</td>\n",
              "      <td>10</td>\n",
              "      <td>1.0</td>\n",
              "      <td>1.0</td>\n",
              "      <td>0</td>\n",
              "      <td>NaN</td>\n",
              "      <td>NaN</td>\n",
              "      <td>20161220</td>\n",
              "    </tr>\n",
              "  </tbody>\n",
              "</table>\n",
              "<p>5 rows × 31 columns</p>\n",
              "</div>"
            ],
            "text/plain": [
              "   가입자일련번호  기준년도  성별코드  연령대코드(5세단위)  시도코드  신장(5Cm단위)  체중(5Kg 단위)  허리둘레  시력(좌)  \\\n",
              "0        2  2014     2           18    41        150          65    79    0.1   \n",
              "1        3  2014     1           12    41        170          70    95    0.8   \n",
              "2        4  2014     2           11    41        165          80   104    0.8   \n",
              "3        8  2014     2           11    41        145          55    93    0.9   \n",
              "4        9  2014     2           18    41        140          35    78    0.2   \n",
              "\n",
              "   시력(우)  ...  혈청크레아티닌  (혈청지오티)AST  (혈청지오티)ALT  감마지티피  흡연상태  음주여부  구강검진 수검여부  \\\n",
              "0    0.1  ...      0.8          11           4     15   1.0   1.0          0   \n",
              "1    1.0  ...      0.6         138          73    112   3.0   1.0          1   \n",
              "2    0.2  ...      0.9          19          14     21   1.0   0.0          1   \n",
              "3    0.9  ...      1.2          34          16    175   1.0   1.0          0   \n",
              "4    0.1  ...      0.5          30          10     10   1.0   1.0          0   \n",
              "\n",
              "   치아우식증유무  치석유무  데이터 기준일자  \n",
              "0      NaN   NaN  20161220  \n",
              "1      0.0   1.0  20161220  \n",
              "2      0.0   1.0  20161220  \n",
              "3      NaN   NaN  20161220  \n",
              "4      NaN   NaN  20161220  \n",
              "\n",
              "[5 rows x 31 columns]"
            ]
          },
          "execution_count": 55,
          "metadata": {},
          "output_type": "execute_result"
        }
      ],
      "source": [
        "# Step 1: 정보읽어오기\n",
        "df = pd.read_csv('NHIS_OPEN_2014.csv', encoding='cp949')\n",
        "df.head()"
      ]
    },
    {
      "cell_type": "code",
      "execution_count": 57,
      "metadata": {
        "id": "5IhxUDZjxuXi"
      },
      "outputs": [
        {
          "data": {
            "text/plain": [
              "(232549, 31)"
            ]
          },
          "execution_count": 57,
          "metadata": {},
          "output_type": "execute_result"
        }
      ],
      "source": [
        "# 데이터 형상 확인\n",
        "df.shape"
      ]
    },
    {
      "cell_type": "code",
      "execution_count": 63,
      "metadata": {
        "id": "d1BRvO_YxuVX"
      },
      "outputs": [
        {
          "data": {
            "text/plain": [
              "가입자일련번호          int64\n",
              "기준년도             int64\n",
              "성별코드             int64\n",
              "연령대코드(5세단위)      int64\n",
              "시도코드             int64\n",
              "신장(5Cm단위)        int64\n",
              "체중(5Kg 단위)       int64\n",
              "허리둘레             int64\n",
              "시력(좌)          float64\n",
              "시력(우)          float64\n",
              "청력(좌)          float64\n",
              "청력(우)          float64\n",
              "수축기혈압            int64\n",
              "이완기혈압            int64\n",
              "식전혈당(공복혈당)       int64\n",
              "총콜레스테롤           int64\n",
              "트리글리세라이드         int64\n",
              "HDL콜레스테롤         int64\n",
              "LDL콜레스테롤       float64\n",
              "혈색소            float64\n",
              "요단백            float64\n",
              "혈청크레아티닌        float64\n",
              "(혈청지오티)AST       int64\n",
              "(혈청지오티)ALT       int64\n",
              "감마지티피            int64\n",
              "흡연상태           float64\n",
              "음주여부           float64\n",
              "구강검진 수검여부        int64\n",
              "치아우식증유무        float64\n",
              "치석유무           float64\n",
              "데이터 기준일자         int64\n",
              "dtype: object"
            ]
          },
          "execution_count": 63,
          "metadata": {},
          "output_type": "execute_result"
        }
      ],
      "source": [
        "# 데이터프레임 자료형 확인\n",
        "df.dtypes"
      ]
    },
    {
      "cell_type": "code",
      "execution_count": 65,
      "metadata": {
        "id": "SJZU7iRFxuS4"
      },
      "outputs": [],
      "source": [
        "# Step 2: 숫자 타입의 바이트 수 조절하기\n",
        "# 자료형을 변환하여 메모리 사용량을 줄임\n",
        "for i in  df.columns:\n",
        "  # np.int64 -> np.int16 \n",
        "  if df[i].dtype == np.int64 :\n",
        "    df[i] = df[i].astype(np.int16) # int16로 충분히 빌려올 수 있는데, int64로 가져오면 불필요한 메모리를 사용하게 되니까 16bit로 바꿈\n",
        "  # np.float64 -> np.float32\n",
        "  if df[i].dtype == np.float64 : \n",
        "    df[i] = df[i].astype(np.float32) # float32로 충분히 빌려올 수 있는데, float64로 가져오면 불필요한 메모리를 사용하게 되니까 32bit로 바꿈\n",
        "    "
      ]
    },
    {
      "cell_type": "code",
      "execution_count": 70,
      "metadata": {
        "id": "EKpFWC1wxuOq"
      },
      "outputs": [
        {
          "data": {
            "text/html": [
              "<div>\n",
              "<style scoped>\n",
              "    .dataframe tbody tr th:only-of-type {\n",
              "        vertical-align: middle;\n",
              "    }\n",
              "\n",
              "    .dataframe tbody tr th {\n",
              "        vertical-align: top;\n",
              "    }\n",
              "\n",
              "    .dataframe thead th {\n",
              "        text-align: right;\n",
              "    }\n",
              "</style>\n",
              "<table border=\"1\" class=\"dataframe\">\n",
              "  <thead>\n",
              "    <tr style=\"text-align: right;\">\n",
              "      <th></th>\n",
              "      <th>가입자일련번호</th>\n",
              "      <th>기준년도</th>\n",
              "      <th>성별코드</th>\n",
              "      <th>연령대코드(5세단위)</th>\n",
              "      <th>시도코드</th>\n",
              "      <th>신장(5Cm단위)</th>\n",
              "      <th>체중(5Kg 단위)</th>\n",
              "      <th>허리둘레</th>\n",
              "      <th>시력(좌)</th>\n",
              "      <th>시력(우)</th>\n",
              "      <th>...</th>\n",
              "      <th>혈청크레아티닌</th>\n",
              "      <th>(혈청지오티)AST</th>\n",
              "      <th>(혈청지오티)ALT</th>\n",
              "      <th>감마지티피</th>\n",
              "      <th>흡연상태</th>\n",
              "      <th>음주여부</th>\n",
              "      <th>구강검진 수검여부</th>\n",
              "      <th>치아우식증유무</th>\n",
              "      <th>치석유무</th>\n",
              "      <th>데이터 기준일자</th>\n",
              "    </tr>\n",
              "  </thead>\n",
              "  <tbody>\n",
              "    <tr>\n",
              "      <th>0</th>\n",
              "      <td>False</td>\n",
              "      <td>False</td>\n",
              "      <td>False</td>\n",
              "      <td>False</td>\n",
              "      <td>False</td>\n",
              "      <td>False</td>\n",
              "      <td>False</td>\n",
              "      <td>False</td>\n",
              "      <td>False</td>\n",
              "      <td>False</td>\n",
              "      <td>...</td>\n",
              "      <td>False</td>\n",
              "      <td>False</td>\n",
              "      <td>False</td>\n",
              "      <td>False</td>\n",
              "      <td>False</td>\n",
              "      <td>False</td>\n",
              "      <td>False</td>\n",
              "      <td>True</td>\n",
              "      <td>True</td>\n",
              "      <td>False</td>\n",
              "    </tr>\n",
              "    <tr>\n",
              "      <th>1</th>\n",
              "      <td>False</td>\n",
              "      <td>False</td>\n",
              "      <td>False</td>\n",
              "      <td>False</td>\n",
              "      <td>False</td>\n",
              "      <td>False</td>\n",
              "      <td>False</td>\n",
              "      <td>False</td>\n",
              "      <td>False</td>\n",
              "      <td>False</td>\n",
              "      <td>...</td>\n",
              "      <td>False</td>\n",
              "      <td>False</td>\n",
              "      <td>False</td>\n",
              "      <td>False</td>\n",
              "      <td>False</td>\n",
              "      <td>False</td>\n",
              "      <td>False</td>\n",
              "      <td>False</td>\n",
              "      <td>False</td>\n",
              "      <td>False</td>\n",
              "    </tr>\n",
              "    <tr>\n",
              "      <th>2</th>\n",
              "      <td>False</td>\n",
              "      <td>False</td>\n",
              "      <td>False</td>\n",
              "      <td>False</td>\n",
              "      <td>False</td>\n",
              "      <td>False</td>\n",
              "      <td>False</td>\n",
              "      <td>False</td>\n",
              "      <td>False</td>\n",
              "      <td>False</td>\n",
              "      <td>...</td>\n",
              "      <td>False</td>\n",
              "      <td>False</td>\n",
              "      <td>False</td>\n",
              "      <td>False</td>\n",
              "      <td>False</td>\n",
              "      <td>False</td>\n",
              "      <td>False</td>\n",
              "      <td>False</td>\n",
              "      <td>False</td>\n",
              "      <td>False</td>\n",
              "    </tr>\n",
              "    <tr>\n",
              "      <th>3</th>\n",
              "      <td>False</td>\n",
              "      <td>False</td>\n",
              "      <td>False</td>\n",
              "      <td>False</td>\n",
              "      <td>False</td>\n",
              "      <td>False</td>\n",
              "      <td>False</td>\n",
              "      <td>False</td>\n",
              "      <td>False</td>\n",
              "      <td>False</td>\n",
              "      <td>...</td>\n",
              "      <td>False</td>\n",
              "      <td>False</td>\n",
              "      <td>False</td>\n",
              "      <td>False</td>\n",
              "      <td>False</td>\n",
              "      <td>False</td>\n",
              "      <td>False</td>\n",
              "      <td>True</td>\n",
              "      <td>True</td>\n",
              "      <td>False</td>\n",
              "    </tr>\n",
              "    <tr>\n",
              "      <th>4</th>\n",
              "      <td>False</td>\n",
              "      <td>False</td>\n",
              "      <td>False</td>\n",
              "      <td>False</td>\n",
              "      <td>False</td>\n",
              "      <td>False</td>\n",
              "      <td>False</td>\n",
              "      <td>False</td>\n",
              "      <td>False</td>\n",
              "      <td>False</td>\n",
              "      <td>...</td>\n",
              "      <td>False</td>\n",
              "      <td>False</td>\n",
              "      <td>False</td>\n",
              "      <td>False</td>\n",
              "      <td>False</td>\n",
              "      <td>False</td>\n",
              "      <td>False</td>\n",
              "      <td>True</td>\n",
              "      <td>True</td>\n",
              "      <td>False</td>\n",
              "    </tr>\n",
              "    <tr>\n",
              "      <th>...</th>\n",
              "      <td>...</td>\n",
              "      <td>...</td>\n",
              "      <td>...</td>\n",
              "      <td>...</td>\n",
              "      <td>...</td>\n",
              "      <td>...</td>\n",
              "      <td>...</td>\n",
              "      <td>...</td>\n",
              "      <td>...</td>\n",
              "      <td>...</td>\n",
              "      <td>...</td>\n",
              "      <td>...</td>\n",
              "      <td>...</td>\n",
              "      <td>...</td>\n",
              "      <td>...</td>\n",
              "      <td>...</td>\n",
              "      <td>...</td>\n",
              "      <td>...</td>\n",
              "      <td>...</td>\n",
              "      <td>...</td>\n",
              "      <td>...</td>\n",
              "    </tr>\n",
              "    <tr>\n",
              "      <th>232544</th>\n",
              "      <td>False</td>\n",
              "      <td>False</td>\n",
              "      <td>False</td>\n",
              "      <td>False</td>\n",
              "      <td>False</td>\n",
              "      <td>False</td>\n",
              "      <td>False</td>\n",
              "      <td>False</td>\n",
              "      <td>False</td>\n",
              "      <td>False</td>\n",
              "      <td>...</td>\n",
              "      <td>False</td>\n",
              "      <td>False</td>\n",
              "      <td>False</td>\n",
              "      <td>False</td>\n",
              "      <td>False</td>\n",
              "      <td>False</td>\n",
              "      <td>False</td>\n",
              "      <td>True</td>\n",
              "      <td>True</td>\n",
              "      <td>False</td>\n",
              "    </tr>\n",
              "    <tr>\n",
              "      <th>232545</th>\n",
              "      <td>False</td>\n",
              "      <td>False</td>\n",
              "      <td>False</td>\n",
              "      <td>False</td>\n",
              "      <td>False</td>\n",
              "      <td>False</td>\n",
              "      <td>False</td>\n",
              "      <td>False</td>\n",
              "      <td>False</td>\n",
              "      <td>False</td>\n",
              "      <td>...</td>\n",
              "      <td>False</td>\n",
              "      <td>False</td>\n",
              "      <td>False</td>\n",
              "      <td>False</td>\n",
              "      <td>False</td>\n",
              "      <td>False</td>\n",
              "      <td>False</td>\n",
              "      <td>True</td>\n",
              "      <td>True</td>\n",
              "      <td>False</td>\n",
              "    </tr>\n",
              "    <tr>\n",
              "      <th>232546</th>\n",
              "      <td>False</td>\n",
              "      <td>False</td>\n",
              "      <td>False</td>\n",
              "      <td>False</td>\n",
              "      <td>False</td>\n",
              "      <td>False</td>\n",
              "      <td>False</td>\n",
              "      <td>False</td>\n",
              "      <td>False</td>\n",
              "      <td>False</td>\n",
              "      <td>...</td>\n",
              "      <td>False</td>\n",
              "      <td>False</td>\n",
              "      <td>False</td>\n",
              "      <td>False</td>\n",
              "      <td>False</td>\n",
              "      <td>False</td>\n",
              "      <td>False</td>\n",
              "      <td>True</td>\n",
              "      <td>True</td>\n",
              "      <td>False</td>\n",
              "    </tr>\n",
              "    <tr>\n",
              "      <th>232547</th>\n",
              "      <td>False</td>\n",
              "      <td>False</td>\n",
              "      <td>False</td>\n",
              "      <td>False</td>\n",
              "      <td>False</td>\n",
              "      <td>False</td>\n",
              "      <td>False</td>\n",
              "      <td>False</td>\n",
              "      <td>False</td>\n",
              "      <td>False</td>\n",
              "      <td>...</td>\n",
              "      <td>False</td>\n",
              "      <td>False</td>\n",
              "      <td>False</td>\n",
              "      <td>False</td>\n",
              "      <td>False</td>\n",
              "      <td>False</td>\n",
              "      <td>False</td>\n",
              "      <td>True</td>\n",
              "      <td>True</td>\n",
              "      <td>False</td>\n",
              "    </tr>\n",
              "    <tr>\n",
              "      <th>232548</th>\n",
              "      <td>False</td>\n",
              "      <td>False</td>\n",
              "      <td>False</td>\n",
              "      <td>False</td>\n",
              "      <td>False</td>\n",
              "      <td>False</td>\n",
              "      <td>False</td>\n",
              "      <td>False</td>\n",
              "      <td>False</td>\n",
              "      <td>False</td>\n",
              "      <td>...</td>\n",
              "      <td>False</td>\n",
              "      <td>False</td>\n",
              "      <td>False</td>\n",
              "      <td>False</td>\n",
              "      <td>False</td>\n",
              "      <td>False</td>\n",
              "      <td>False</td>\n",
              "      <td>True</td>\n",
              "      <td>True</td>\n",
              "      <td>False</td>\n",
              "    </tr>\n",
              "  </tbody>\n",
              "</table>\n",
              "<p>232549 rows × 31 columns</p>\n",
              "</div>"
            ],
            "text/plain": [
              "        가입자일련번호   기준년도   성별코드  연령대코드(5세단위)   시도코드  신장(5Cm단위)  체중(5Kg 단위)  \\\n",
              "0         False  False  False        False  False      False       False   \n",
              "1         False  False  False        False  False      False       False   \n",
              "2         False  False  False        False  False      False       False   \n",
              "3         False  False  False        False  False      False       False   \n",
              "4         False  False  False        False  False      False       False   \n",
              "...         ...    ...    ...          ...    ...        ...         ...   \n",
              "232544    False  False  False        False  False      False       False   \n",
              "232545    False  False  False        False  False      False       False   \n",
              "232546    False  False  False        False  False      False       False   \n",
              "232547    False  False  False        False  False      False       False   \n",
              "232548    False  False  False        False  False      False       False   \n",
              "\n",
              "         허리둘레  시력(좌)  시력(우)  ...  혈청크레아티닌  (혈청지오티)AST  (혈청지오티)ALT  감마지티피  \\\n",
              "0       False  False  False  ...    False       False       False  False   \n",
              "1       False  False  False  ...    False       False       False  False   \n",
              "2       False  False  False  ...    False       False       False  False   \n",
              "3       False  False  False  ...    False       False       False  False   \n",
              "4       False  False  False  ...    False       False       False  False   \n",
              "...       ...    ...    ...  ...      ...         ...         ...    ...   \n",
              "232544  False  False  False  ...    False       False       False  False   \n",
              "232545  False  False  False  ...    False       False       False  False   \n",
              "232546  False  False  False  ...    False       False       False  False   \n",
              "232547  False  False  False  ...    False       False       False  False   \n",
              "232548  False  False  False  ...    False       False       False  False   \n",
              "\n",
              "         흡연상태   음주여부  구강검진 수검여부  치아우식증유무   치석유무  데이터 기준일자  \n",
              "0       False  False      False     True   True     False  \n",
              "1       False  False      False    False  False     False  \n",
              "2       False  False      False    False  False     False  \n",
              "3       False  False      False     True   True     False  \n",
              "4       False  False      False     True   True     False  \n",
              "...       ...    ...        ...      ...    ...       ...  \n",
              "232544  False  False      False     True   True     False  \n",
              "232545  False  False      False     True   True     False  \n",
              "232546  False  False      False     True   True     False  \n",
              "232547  False  False      False     True   True     False  \n",
              "232548  False  False      False     True   True     False  \n",
              "\n",
              "[232549 rows x 31 columns]"
            ]
          },
          "execution_count": 70,
          "metadata": {},
          "output_type": "execute_result"
        }
      ],
      "source": [
        "# Step 3: 결측값 제거\n",
        "# 데이터 프레임의 결측값 확인\n",
        "df_1 = df.isna()\n",
        "df_1"
      ]
    },
    {
      "cell_type": "code",
      "execution_count": 71,
      "metadata": {
        "id": "jJMx2XXe1-UH"
      },
      "outputs": [
        {
          "data": {
            "text/plain": [
              "348148"
            ]
          },
          "execution_count": 71,
          "metadata": {},
          "output_type": "execute_result"
        }
      ],
      "source": [
        "## 총 결측값을 sum 메소드로 확인인\n",
        "df_1.sum().sum()  # 총 결측치가 몇 개인지"
      ]
    },
    {
      "cell_type": "code",
      "execution_count": 72,
      "metadata": {
        "id": "6mr4IUVc1-SV"
      },
      "outputs": [],
      "source": [
        "# 모든 결측값을 0으로 처리\n",
        "df = df.fillna(0)"
      ]
    },
    {
      "cell_type": "code",
      "execution_count": 74,
      "metadata": {
        "id": "neW8EyCd1-N-"
      },
      "outputs": [
        {
          "data": {
            "text/html": [
              "<div>\n",
              "<style scoped>\n",
              "    .dataframe tbody tr th:only-of-type {\n",
              "        vertical-align: middle;\n",
              "    }\n",
              "\n",
              "    .dataframe tbody tr th {\n",
              "        vertical-align: top;\n",
              "    }\n",
              "\n",
              "    .dataframe thead th {\n",
              "        text-align: right;\n",
              "    }\n",
              "</style>\n",
              "<table border=\"1\" class=\"dataframe\">\n",
              "  <thead>\n",
              "    <tr style=\"text-align: right;\">\n",
              "      <th></th>\n",
              "      <th>가입자일련번호</th>\n",
              "      <th>기준년도</th>\n",
              "      <th>성별코드</th>\n",
              "      <th>연령대코드(5세단위)</th>\n",
              "      <th>시도코드</th>\n",
              "      <th>신장(5Cm단위)</th>\n",
              "      <th>체중(5Kg 단위)</th>\n",
              "      <th>허리둘레</th>\n",
              "      <th>시력(좌)</th>\n",
              "      <th>시력(우)</th>\n",
              "      <th>...</th>\n",
              "      <th>혈청크레아티닌</th>\n",
              "      <th>(혈청지오티)AST</th>\n",
              "      <th>(혈청지오티)ALT</th>\n",
              "      <th>감마지티피</th>\n",
              "      <th>흡연상태</th>\n",
              "      <th>음주여부</th>\n",
              "      <th>구강검진 수검여부</th>\n",
              "      <th>치아우식증유무</th>\n",
              "      <th>치석유무</th>\n",
              "      <th>데이터 기준일자</th>\n",
              "    </tr>\n",
              "  </thead>\n",
              "  <tbody>\n",
              "    <tr>\n",
              "      <th>0</th>\n",
              "      <td>False</td>\n",
              "      <td>False</td>\n",
              "      <td>False</td>\n",
              "      <td>False</td>\n",
              "      <td>False</td>\n",
              "      <td>False</td>\n",
              "      <td>False</td>\n",
              "      <td>False</td>\n",
              "      <td>False</td>\n",
              "      <td>False</td>\n",
              "      <td>...</td>\n",
              "      <td>False</td>\n",
              "      <td>False</td>\n",
              "      <td>False</td>\n",
              "      <td>False</td>\n",
              "      <td>False</td>\n",
              "      <td>False</td>\n",
              "      <td>False</td>\n",
              "      <td>False</td>\n",
              "      <td>False</td>\n",
              "      <td>False</td>\n",
              "    </tr>\n",
              "    <tr>\n",
              "      <th>1</th>\n",
              "      <td>False</td>\n",
              "      <td>False</td>\n",
              "      <td>False</td>\n",
              "      <td>False</td>\n",
              "      <td>False</td>\n",
              "      <td>False</td>\n",
              "      <td>False</td>\n",
              "      <td>False</td>\n",
              "      <td>False</td>\n",
              "      <td>False</td>\n",
              "      <td>...</td>\n",
              "      <td>False</td>\n",
              "      <td>False</td>\n",
              "      <td>False</td>\n",
              "      <td>False</td>\n",
              "      <td>False</td>\n",
              "      <td>False</td>\n",
              "      <td>False</td>\n",
              "      <td>False</td>\n",
              "      <td>False</td>\n",
              "      <td>False</td>\n",
              "    </tr>\n",
              "    <tr>\n",
              "      <th>2</th>\n",
              "      <td>False</td>\n",
              "      <td>False</td>\n",
              "      <td>False</td>\n",
              "      <td>False</td>\n",
              "      <td>False</td>\n",
              "      <td>False</td>\n",
              "      <td>False</td>\n",
              "      <td>False</td>\n",
              "      <td>False</td>\n",
              "      <td>False</td>\n",
              "      <td>...</td>\n",
              "      <td>False</td>\n",
              "      <td>False</td>\n",
              "      <td>False</td>\n",
              "      <td>False</td>\n",
              "      <td>False</td>\n",
              "      <td>False</td>\n",
              "      <td>False</td>\n",
              "      <td>False</td>\n",
              "      <td>False</td>\n",
              "      <td>False</td>\n",
              "    </tr>\n",
              "    <tr>\n",
              "      <th>3</th>\n",
              "      <td>False</td>\n",
              "      <td>False</td>\n",
              "      <td>False</td>\n",
              "      <td>False</td>\n",
              "      <td>False</td>\n",
              "      <td>False</td>\n",
              "      <td>False</td>\n",
              "      <td>False</td>\n",
              "      <td>False</td>\n",
              "      <td>False</td>\n",
              "      <td>...</td>\n",
              "      <td>False</td>\n",
              "      <td>False</td>\n",
              "      <td>False</td>\n",
              "      <td>False</td>\n",
              "      <td>False</td>\n",
              "      <td>False</td>\n",
              "      <td>False</td>\n",
              "      <td>False</td>\n",
              "      <td>False</td>\n",
              "      <td>False</td>\n",
              "    </tr>\n",
              "    <tr>\n",
              "      <th>4</th>\n",
              "      <td>False</td>\n",
              "      <td>False</td>\n",
              "      <td>False</td>\n",
              "      <td>False</td>\n",
              "      <td>False</td>\n",
              "      <td>False</td>\n",
              "      <td>False</td>\n",
              "      <td>False</td>\n",
              "      <td>False</td>\n",
              "      <td>False</td>\n",
              "      <td>...</td>\n",
              "      <td>False</td>\n",
              "      <td>False</td>\n",
              "      <td>False</td>\n",
              "      <td>False</td>\n",
              "      <td>False</td>\n",
              "      <td>False</td>\n",
              "      <td>False</td>\n",
              "      <td>False</td>\n",
              "      <td>False</td>\n",
              "      <td>False</td>\n",
              "    </tr>\n",
              "    <tr>\n",
              "      <th>...</th>\n",
              "      <td>...</td>\n",
              "      <td>...</td>\n",
              "      <td>...</td>\n",
              "      <td>...</td>\n",
              "      <td>...</td>\n",
              "      <td>...</td>\n",
              "      <td>...</td>\n",
              "      <td>...</td>\n",
              "      <td>...</td>\n",
              "      <td>...</td>\n",
              "      <td>...</td>\n",
              "      <td>...</td>\n",
              "      <td>...</td>\n",
              "      <td>...</td>\n",
              "      <td>...</td>\n",
              "      <td>...</td>\n",
              "      <td>...</td>\n",
              "      <td>...</td>\n",
              "      <td>...</td>\n",
              "      <td>...</td>\n",
              "      <td>...</td>\n",
              "    </tr>\n",
              "    <tr>\n",
              "      <th>232544</th>\n",
              "      <td>False</td>\n",
              "      <td>False</td>\n",
              "      <td>False</td>\n",
              "      <td>False</td>\n",
              "      <td>False</td>\n",
              "      <td>False</td>\n",
              "      <td>False</td>\n",
              "      <td>False</td>\n",
              "      <td>False</td>\n",
              "      <td>False</td>\n",
              "      <td>...</td>\n",
              "      <td>False</td>\n",
              "      <td>False</td>\n",
              "      <td>False</td>\n",
              "      <td>False</td>\n",
              "      <td>False</td>\n",
              "      <td>False</td>\n",
              "      <td>False</td>\n",
              "      <td>False</td>\n",
              "      <td>False</td>\n",
              "      <td>False</td>\n",
              "    </tr>\n",
              "    <tr>\n",
              "      <th>232545</th>\n",
              "      <td>False</td>\n",
              "      <td>False</td>\n",
              "      <td>False</td>\n",
              "      <td>False</td>\n",
              "      <td>False</td>\n",
              "      <td>False</td>\n",
              "      <td>False</td>\n",
              "      <td>False</td>\n",
              "      <td>False</td>\n",
              "      <td>False</td>\n",
              "      <td>...</td>\n",
              "      <td>False</td>\n",
              "      <td>False</td>\n",
              "      <td>False</td>\n",
              "      <td>False</td>\n",
              "      <td>False</td>\n",
              "      <td>False</td>\n",
              "      <td>False</td>\n",
              "      <td>False</td>\n",
              "      <td>False</td>\n",
              "      <td>False</td>\n",
              "    </tr>\n",
              "    <tr>\n",
              "      <th>232546</th>\n",
              "      <td>False</td>\n",
              "      <td>False</td>\n",
              "      <td>False</td>\n",
              "      <td>False</td>\n",
              "      <td>False</td>\n",
              "      <td>False</td>\n",
              "      <td>False</td>\n",
              "      <td>False</td>\n",
              "      <td>False</td>\n",
              "      <td>False</td>\n",
              "      <td>...</td>\n",
              "      <td>False</td>\n",
              "      <td>False</td>\n",
              "      <td>False</td>\n",
              "      <td>False</td>\n",
              "      <td>False</td>\n",
              "      <td>False</td>\n",
              "      <td>False</td>\n",
              "      <td>False</td>\n",
              "      <td>False</td>\n",
              "      <td>False</td>\n",
              "    </tr>\n",
              "    <tr>\n",
              "      <th>232547</th>\n",
              "      <td>False</td>\n",
              "      <td>False</td>\n",
              "      <td>False</td>\n",
              "      <td>False</td>\n",
              "      <td>False</td>\n",
              "      <td>False</td>\n",
              "      <td>False</td>\n",
              "      <td>False</td>\n",
              "      <td>False</td>\n",
              "      <td>False</td>\n",
              "      <td>...</td>\n",
              "      <td>False</td>\n",
              "      <td>False</td>\n",
              "      <td>False</td>\n",
              "      <td>False</td>\n",
              "      <td>False</td>\n",
              "      <td>False</td>\n",
              "      <td>False</td>\n",
              "      <td>False</td>\n",
              "      <td>False</td>\n",
              "      <td>False</td>\n",
              "    </tr>\n",
              "    <tr>\n",
              "      <th>232548</th>\n",
              "      <td>False</td>\n",
              "      <td>False</td>\n",
              "      <td>False</td>\n",
              "      <td>False</td>\n",
              "      <td>False</td>\n",
              "      <td>False</td>\n",
              "      <td>False</td>\n",
              "      <td>False</td>\n",
              "      <td>False</td>\n",
              "      <td>False</td>\n",
              "      <td>...</td>\n",
              "      <td>False</td>\n",
              "      <td>False</td>\n",
              "      <td>False</td>\n",
              "      <td>False</td>\n",
              "      <td>False</td>\n",
              "      <td>False</td>\n",
              "      <td>False</td>\n",
              "      <td>False</td>\n",
              "      <td>False</td>\n",
              "      <td>False</td>\n",
              "    </tr>\n",
              "  </tbody>\n",
              "</table>\n",
              "<p>232549 rows × 31 columns</p>\n",
              "</div>"
            ],
            "text/plain": [
              "        가입자일련번호   기준년도   성별코드  연령대코드(5세단위)   시도코드  신장(5Cm단위)  체중(5Kg 단위)  \\\n",
              "0         False  False  False        False  False      False       False   \n",
              "1         False  False  False        False  False      False       False   \n",
              "2         False  False  False        False  False      False       False   \n",
              "3         False  False  False        False  False      False       False   \n",
              "4         False  False  False        False  False      False       False   \n",
              "...         ...    ...    ...          ...    ...        ...         ...   \n",
              "232544    False  False  False        False  False      False       False   \n",
              "232545    False  False  False        False  False      False       False   \n",
              "232546    False  False  False        False  False      False       False   \n",
              "232547    False  False  False        False  False      False       False   \n",
              "232548    False  False  False        False  False      False       False   \n",
              "\n",
              "         허리둘레  시력(좌)  시력(우)  ...  혈청크레아티닌  (혈청지오티)AST  (혈청지오티)ALT  감마지티피  \\\n",
              "0       False  False  False  ...    False       False       False  False   \n",
              "1       False  False  False  ...    False       False       False  False   \n",
              "2       False  False  False  ...    False       False       False  False   \n",
              "3       False  False  False  ...    False       False       False  False   \n",
              "4       False  False  False  ...    False       False       False  False   \n",
              "...       ...    ...    ...  ...      ...         ...         ...    ...   \n",
              "232544  False  False  False  ...    False       False       False  False   \n",
              "232545  False  False  False  ...    False       False       False  False   \n",
              "232546  False  False  False  ...    False       False       False  False   \n",
              "232547  False  False  False  ...    False       False       False  False   \n",
              "232548  False  False  False  ...    False       False       False  False   \n",
              "\n",
              "         흡연상태   음주여부  구강검진 수검여부  치아우식증유무   치석유무  데이터 기준일자  \n",
              "0       False  False      False    False  False     False  \n",
              "1       False  False      False    False  False     False  \n",
              "2       False  False      False    False  False     False  \n",
              "3       False  False      False    False  False     False  \n",
              "4       False  False      False    False  False     False  \n",
              "...       ...    ...        ...      ...    ...       ...  \n",
              "232544  False  False      False    False  False     False  \n",
              "232545  False  False      False    False  False     False  \n",
              "232546  False  False      False    False  False     False  \n",
              "232547  False  False      False    False  False     False  \n",
              "232548  False  False      False    False  False     False  \n",
              "\n",
              "[232549 rows x 31 columns]"
            ]
          },
          "execution_count": 74,
          "metadata": {},
          "output_type": "execute_result"
        }
      ],
      "source": [
        "# 결측값 존재유무 확인\n",
        "d = df.isna()  # 이제 결측치가 없다\n",
        "d"
      ]
    },
    {
      "cell_type": "code",
      "execution_count": 75,
      "metadata": {
        "id": "Muwy7Qlz1-Lv"
      },
      "outputs": [
        {
          "data": {
            "text/plain": [
              "0"
            ]
          },
          "execution_count": 75,
          "metadata": {},
          "output_type": "execute_result"
        }
      ],
      "source": [
        "# 총 결측값 확인\n",
        "d.sum().sum() # 이제 결측치가 없다"
      ]
    },
    {
      "cell_type": "code",
      "execution_count": 76,
      "metadata": {
        "id": "r8Ncvv9M6NDr"
      },
      "outputs": [
        {
          "data": {
            "text/plain": [
              "(232549, 2)"
            ]
          },
          "execution_count": 76,
          "metadata": {},
          "output_type": "execute_result"
        }
      ],
      "source": [
        "# Step 4: 특정 열로 새로운 구조 만들기\n",
        "d_ = df[['성별코드', '신장(5Cm단위)']].copy()\n",
        "d_.shape"
      ]
    },
    {
      "cell_type": "code",
      "execution_count": 77,
      "metadata": {
        "id": "4_ysSBlL6Uxu"
      },
      "outputs": [],
      "source": [
        "# 계산할 열 추가\n",
        "d_.loc[:,\"count\"] = 1"
      ]
    },
    {
      "cell_type": "code",
      "execution_count": 78,
      "metadata": {
        "id": "Tsfz8dCt6YK7"
      },
      "outputs": [
        {
          "data": {
            "text/html": [
              "<div>\n",
              "<style scoped>\n",
              "    .dataframe tbody tr th:only-of-type {\n",
              "        vertical-align: middle;\n",
              "    }\n",
              "\n",
              "    .dataframe tbody tr th {\n",
              "        vertical-align: top;\n",
              "    }\n",
              "\n",
              "    .dataframe thead th {\n",
              "        text-align: right;\n",
              "    }\n",
              "</style>\n",
              "<table border=\"1\" class=\"dataframe\">\n",
              "  <thead>\n",
              "    <tr style=\"text-align: right;\">\n",
              "      <th></th>\n",
              "      <th>성별코드</th>\n",
              "      <th>신장(5Cm단위)</th>\n",
              "      <th>count</th>\n",
              "    </tr>\n",
              "  </thead>\n",
              "  <tbody>\n",
              "    <tr>\n",
              "      <th>0</th>\n",
              "      <td>2</td>\n",
              "      <td>150</td>\n",
              "      <td>1</td>\n",
              "    </tr>\n",
              "    <tr>\n",
              "      <th>1</th>\n",
              "      <td>1</td>\n",
              "      <td>170</td>\n",
              "      <td>1</td>\n",
              "    </tr>\n",
              "    <tr>\n",
              "      <th>2</th>\n",
              "      <td>2</td>\n",
              "      <td>165</td>\n",
              "      <td>1</td>\n",
              "    </tr>\n",
              "    <tr>\n",
              "      <th>3</th>\n",
              "      <td>2</td>\n",
              "      <td>145</td>\n",
              "      <td>1</td>\n",
              "    </tr>\n",
              "    <tr>\n",
              "      <th>4</th>\n",
              "      <td>2</td>\n",
              "      <td>140</td>\n",
              "      <td>1</td>\n",
              "    </tr>\n",
              "  </tbody>\n",
              "</table>\n",
              "</div>"
            ],
            "text/plain": [
              "   성별코드  신장(5Cm단위)  count\n",
              "0     2        150      1\n",
              "1     1        170      1\n",
              "2     2        165      1\n",
              "3     2        145      1\n",
              "4     2        140      1"
            ]
          },
          "execution_count": 78,
          "metadata": {},
          "output_type": "execute_result"
        }
      ],
      "source": [
        "d_.head()"
      ]
    },
    {
      "cell_type": "code",
      "execution_count": 82,
      "metadata": {
        "id": "0YM8eepN1-Jb"
      },
      "outputs": [],
      "source": [
        "# Step 5: 피벗테이블 만들기\n",
        "# 많은 양의 데이터에서 필요한 자료만을 뽑아 새롭게 표를 작성\n",
        "\n",
        "# 신장 column 기준으로 피벗테이블 생성\n",
        "d_c = pd.pivot_table(\n",
        "    d_,                       # pivot할 dataframe\n",
        "    index=['신장(5Cm단위)'],    # 행 위치에 들어갈 열\n",
        "    columns=['성별코드'],       # 열 위치에 들어갈 열\n",
        "    values=\"count\",           # 데이터로 사용할 열\n",
        "    aggfunc=np.sum            # 데이터 aggregate function\n",
        ")"
      ]
    },
    {
      "cell_type": "code",
      "execution_count": 83,
      "metadata": {
        "id": "IWCkIKIp1-HO"
      },
      "outputs": [
        {
          "data": {
            "text/html": [
              "<div>\n",
              "<style scoped>\n",
              "    .dataframe tbody tr th:only-of-type {\n",
              "        vertical-align: middle;\n",
              "    }\n",
              "\n",
              "    .dataframe tbody tr th {\n",
              "        vertical-align: top;\n",
              "    }\n",
              "\n",
              "    .dataframe thead th {\n",
              "        text-align: right;\n",
              "    }\n",
              "</style>\n",
              "<table border=\"1\" class=\"dataframe\">\n",
              "  <thead>\n",
              "    <tr style=\"text-align: right;\">\n",
              "      <th>성별코드</th>\n",
              "      <th>1</th>\n",
              "      <th>2</th>\n",
              "    </tr>\n",
              "    <tr>\n",
              "      <th>신장(5Cm단위)</th>\n",
              "      <th></th>\n",
              "      <th></th>\n",
              "    </tr>\n",
              "  </thead>\n",
              "  <tbody>\n",
              "    <tr>\n",
              "      <th>130</th>\n",
              "      <td>NaN</td>\n",
              "      <td>3.0</td>\n",
              "    </tr>\n",
              "    <tr>\n",
              "      <th>135</th>\n",
              "      <td>NaN</td>\n",
              "      <td>61.0</td>\n",
              "    </tr>\n",
              "    <tr>\n",
              "      <th>140</th>\n",
              "      <td>4.0</td>\n",
              "      <td>433.0</td>\n",
              "    </tr>\n",
              "    <tr>\n",
              "      <th>145</th>\n",
              "      <td>6.0</td>\n",
              "      <td>2431.0</td>\n",
              "    </tr>\n",
              "    <tr>\n",
              "      <th>150</th>\n",
              "      <td>145.0</td>\n",
              "      <td>10544.0</td>\n",
              "    </tr>\n",
              "    <tr>\n",
              "      <th>155</th>\n",
              "      <td>1114.0</td>\n",
              "      <td>25595.0</td>\n",
              "    </tr>\n",
              "    <tr>\n",
              "      <th>160</th>\n",
              "      <td>6286.0</td>\n",
              "      <td>33263.0</td>\n",
              "    </tr>\n",
              "    <tr>\n",
              "      <th>165</th>\n",
              "      <td>19600.0</td>\n",
              "      <td>21844.0</td>\n",
              "    </tr>\n",
              "    <tr>\n",
              "      <th>170</th>\n",
              "      <td>35416.0</td>\n",
              "      <td>7645.0</td>\n",
              "    </tr>\n",
              "    <tr>\n",
              "      <th>175</th>\n",
              "      <td>36888.0</td>\n",
              "      <td>1301.0</td>\n",
              "    </tr>\n",
              "    <tr>\n",
              "      <th>180</th>\n",
              "      <td>21646.0</td>\n",
              "      <td>94.0</td>\n",
              "    </tr>\n",
              "    <tr>\n",
              "      <th>185</th>\n",
              "      <td>6876.0</td>\n",
              "      <td>NaN</td>\n",
              "    </tr>\n",
              "    <tr>\n",
              "      <th>190</th>\n",
              "      <td>1239.0</td>\n",
              "      <td>NaN</td>\n",
              "    </tr>\n",
              "    <tr>\n",
              "      <th>195</th>\n",
              "      <td>115.0</td>\n",
              "      <td>NaN</td>\n",
              "    </tr>\n",
              "  </tbody>\n",
              "</table>\n",
              "</div>"
            ],
            "text/plain": [
              "성별코드             1        2\n",
              "신장(5Cm단위)                  \n",
              "130            NaN      3.0\n",
              "135            NaN     61.0\n",
              "140            4.0    433.0\n",
              "145            6.0   2431.0\n",
              "150          145.0  10544.0\n",
              "155         1114.0  25595.0\n",
              "160         6286.0  33263.0\n",
              "165        19600.0  21844.0\n",
              "170        35416.0   7645.0\n",
              "175        36888.0   1301.0\n",
              "180        21646.0     94.0\n",
              "185         6876.0      NaN\n",
              "190         1239.0      NaN\n",
              "195          115.0      NaN"
            ]
          },
          "execution_count": 83,
          "metadata": {},
          "output_type": "execute_result"
        }
      ],
      "source": [
        "# 피벗테이블 확인\n",
        "d_c"
      ]
    },
    {
      "cell_type": "code",
      "execution_count": 85,
      "metadata": {
        "id": "5cTvz3BG1-E3"
      },
      "outputs": [
        {
          "data": {
            "text/html": [
              "<div>\n",
              "<style scoped>\n",
              "    .dataframe tbody tr th:only-of-type {\n",
              "        vertical-align: middle;\n",
              "    }\n",
              "\n",
              "    .dataframe tbody tr th {\n",
              "        vertical-align: top;\n",
              "    }\n",
              "\n",
              "    .dataframe thead th {\n",
              "        text-align: right;\n",
              "    }\n",
              "</style>\n",
              "<table border=\"1\" class=\"dataframe\">\n",
              "  <thead>\n",
              "    <tr style=\"text-align: right;\">\n",
              "      <th>성별코드</th>\n",
              "      <th>1</th>\n",
              "      <th>2</th>\n",
              "    </tr>\n",
              "    <tr>\n",
              "      <th>신장(5Cm단위)</th>\n",
              "      <th></th>\n",
              "      <th></th>\n",
              "    </tr>\n",
              "  </thead>\n",
              "  <tbody>\n",
              "    <tr>\n",
              "      <th>130</th>\n",
              "      <td>9.0</td>\n",
              "      <td>3.0</td>\n",
              "    </tr>\n",
              "    <tr>\n",
              "      <th>135</th>\n",
              "      <td>9.0</td>\n",
              "      <td>61.0</td>\n",
              "    </tr>\n",
              "    <tr>\n",
              "      <th>140</th>\n",
              "      <td>4.0</td>\n",
              "      <td>433.0</td>\n",
              "    </tr>\n",
              "    <tr>\n",
              "      <th>145</th>\n",
              "      <td>6.0</td>\n",
              "      <td>2431.0</td>\n",
              "    </tr>\n",
              "    <tr>\n",
              "      <th>150</th>\n",
              "      <td>145.0</td>\n",
              "      <td>10544.0</td>\n",
              "    </tr>\n",
              "    <tr>\n",
              "      <th>155</th>\n",
              "      <td>1114.0</td>\n",
              "      <td>25595.0</td>\n",
              "    </tr>\n",
              "    <tr>\n",
              "      <th>160</th>\n",
              "      <td>6286.0</td>\n",
              "      <td>33263.0</td>\n",
              "    </tr>\n",
              "    <tr>\n",
              "      <th>165</th>\n",
              "      <td>19600.0</td>\n",
              "      <td>21844.0</td>\n",
              "    </tr>\n",
              "    <tr>\n",
              "      <th>170</th>\n",
              "      <td>35416.0</td>\n",
              "      <td>7645.0</td>\n",
              "    </tr>\n",
              "    <tr>\n",
              "      <th>175</th>\n",
              "      <td>36888.0</td>\n",
              "      <td>1301.0</td>\n",
              "    </tr>\n",
              "    <tr>\n",
              "      <th>180</th>\n",
              "      <td>21646.0</td>\n",
              "      <td>94.0</td>\n",
              "    </tr>\n",
              "    <tr>\n",
              "      <th>185</th>\n",
              "      <td>6876.0</td>\n",
              "      <td>9.0</td>\n",
              "    </tr>\n",
              "    <tr>\n",
              "      <th>190</th>\n",
              "      <td>1239.0</td>\n",
              "      <td>9.0</td>\n",
              "    </tr>\n",
              "    <tr>\n",
              "      <th>195</th>\n",
              "      <td>115.0</td>\n",
              "      <td>9.0</td>\n",
              "    </tr>\n",
              "  </tbody>\n",
              "</table>\n",
              "</div>"
            ],
            "text/plain": [
              "성별코드             1        2\n",
              "신장(5Cm단위)                  \n",
              "130            9.0      3.0\n",
              "135            9.0     61.0\n",
              "140            4.0    433.0\n",
              "145            6.0   2431.0\n",
              "150          145.0  10544.0\n",
              "155         1114.0  25595.0\n",
              "160         6286.0  33263.0\n",
              "165        19600.0  21844.0\n",
              "170        35416.0   7645.0\n",
              "175        36888.0   1301.0\n",
              "180        21646.0     94.0\n",
              "185         6876.0      9.0\n",
              "190         1239.0      9.0\n",
              "195          115.0      9.0"
            ]
          },
          "execution_count": 85,
          "metadata": {},
          "output_type": "execute_result"
        }
      ],
      "source": [
        "# 결측값을 9으로 처리\n",
        "d_c = d_c.fillna(9)\n",
        "d_c"
      ]
    },
    {
      "cell_type": "code",
      "execution_count": 86,
      "metadata": {
        "id": "WZYD0nwTxuMn"
      },
      "outputs": [
        {
          "data": {
            "text/html": [
              "<div>\n",
              "<style scoped>\n",
              "    .dataframe tbody tr th:only-of-type {\n",
              "        vertical-align: middle;\n",
              "    }\n",
              "\n",
              "    .dataframe tbody tr th {\n",
              "        vertical-align: top;\n",
              "    }\n",
              "\n",
              "    .dataframe thead th {\n",
              "        text-align: right;\n",
              "    }\n",
              "</style>\n",
              "<table border=\"1\" class=\"dataframe\">\n",
              "  <thead>\n",
              "    <tr style=\"text-align: right;\">\n",
              "      <th>성별코드</th>\n",
              "      <th>1</th>\n",
              "      <th>2</th>\n",
              "    </tr>\n",
              "  </thead>\n",
              "  <tbody>\n",
              "    <tr>\n",
              "      <th>count</th>\n",
              "      <td>14.000000</td>\n",
              "      <td>14.000000</td>\n",
              "    </tr>\n",
              "    <tr>\n",
              "      <th>mean</th>\n",
              "      <td>9239.500000</td>\n",
              "      <td>7374.357143</td>\n",
              "    </tr>\n",
              "    <tr>\n",
              "      <th>std</th>\n",
              "      <td>13479.824313</td>\n",
              "      <td>11282.321587</td>\n",
              "    </tr>\n",
              "    <tr>\n",
              "      <th>min</th>\n",
              "      <td>4.000000</td>\n",
              "      <td>3.000000</td>\n",
              "    </tr>\n",
              "    <tr>\n",
              "      <th>25%</th>\n",
              "      <td>35.500000</td>\n",
              "      <td>22.000000</td>\n",
              "    </tr>\n",
              "    <tr>\n",
              "      <th>50%</th>\n",
              "      <td>1176.500000</td>\n",
              "      <td>867.000000</td>\n",
              "    </tr>\n",
              "    <tr>\n",
              "      <th>75%</th>\n",
              "      <td>16419.000000</td>\n",
              "      <td>9819.250000</td>\n",
              "    </tr>\n",
              "    <tr>\n",
              "      <th>max</th>\n",
              "      <td>36888.000000</td>\n",
              "      <td>33263.000000</td>\n",
              "    </tr>\n",
              "  </tbody>\n",
              "</table>\n",
              "</div>"
            ],
            "text/plain": [
              "성별코드              1             2\n",
              "count     14.000000     14.000000\n",
              "mean    9239.500000   7374.357143\n",
              "std    13479.824313  11282.321587\n",
              "min        4.000000      3.000000\n",
              "25%       35.500000     22.000000\n",
              "50%     1176.500000    867.000000\n",
              "75%    16419.000000   9819.250000\n",
              "max    36888.000000  33263.000000"
            ]
          },
          "execution_count": 86,
          "metadata": {},
          "output_type": "execute_result"
        }
      ],
      "source": [
        "# 통계량 확인\n",
        "d_c.describe()"
      ]
    },
    {
      "cell_type": "code",
      "execution_count": null,
      "metadata": {},
      "outputs": [],
      "source": []
    }
  ],
  "metadata": {
    "colab": {
      "provenance": []
    },
    "kernelspec": {
      "display_name": "Python 3",
      "name": "python3"
    },
    "language_info": {
      "codemirror_mode": {
        "name": "ipython",
        "version": 3
      },
      "file_extension": ".py",
      "mimetype": "text/x-python",
      "name": "python",
      "nbconvert_exporter": "python",
      "pygments_lexer": "ipython3",
      "version": "3.9.13"
    }
  },
  "nbformat": 4,
  "nbformat_minor": 0
}
